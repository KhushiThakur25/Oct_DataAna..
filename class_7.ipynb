{
 "cells": [
  {
   "cell_type": "code",
   "execution_count": 10,
   "id": "27affdfa-3d5f-4397-8fd0-5eabfa9a6bda",
   "metadata": {
    "tags": []
   },
   "outputs": [],
   "source": [
    "st = \"Brain,mentors.&.skill,risers.\""
   ]
  },
  {
   "cell_type": "code",
   "execution_count": 11,
   "id": "7989365b-d232-4310-bef9-92ff861e64af",
   "metadata": {
    "tags": []
   },
   "outputs": [],
   "source": [
    "st = st.replace(',','temp')"
   ]
  },
  {
   "cell_type": "code",
   "execution_count": 12,
   "id": "dcf1cba3-95e2-4ed5-8abe-08b6a9228d5f",
   "metadata": {
    "tags": []
   },
   "outputs": [],
   "source": [
    "st = st.replace('.',',')"
   ]
  },
  {
   "cell_type": "code",
   "execution_count": 13,
   "id": "1e6a9c17-0293-4204-86c6-a9696c30732f",
   "metadata": {
    "tags": []
   },
   "outputs": [],
   "source": [
    "st = st.replace('temp','.')"
   ]
  },
  {
   "cell_type": "code",
   "execution_count": 14,
   "id": "6635615f-376a-468d-9422-61a427908840",
   "metadata": {
    "tags": []
   },
   "outputs": [
    {
     "data": {
      "text/plain": [
       "'Brain.mentors,&,skill.risers,'"
      ]
     },
     "execution_count": 14,
     "metadata": {},
     "output_type": "execute_result"
    }
   ],
   "source": [
    "st"
   ]
  },
  {
   "cell_type": "code",
   "execution_count": 15,
   "id": "161f1f2c-a7c9-4ebf-b6e9-55629985c3bf",
   "metadata": {
    "tags": []
   },
   "outputs": [],
   "source": [
    "import math\n",
    "\n",
    "n = pow(2,10)"
   ]
  },
  {
   "cell_type": "code",
   "execution_count": 16,
   "id": "176da794-aca4-43d9-944d-8c248da3eb67",
   "metadata": {
    "tags": []
   },
   "outputs": [
    {
     "data": {
      "text/plain": [
       "1024"
      ]
     },
     "execution_count": 16,
     "metadata": {},
     "output_type": "execute_result"
    }
   ],
   "source": [
    "n"
   ]
  },
  {
   "cell_type": "code",
   "execution_count": 17,
   "id": "6c682e39-eeff-4fef-8e10-5706135d6fe1",
   "metadata": {
    "tags": []
   },
   "outputs": [
    {
     "data": {
      "text/plain": [
       "1024"
      ]
     },
     "execution_count": 17,
     "metadata": {},
     "output_type": "execute_result"
    }
   ],
   "source": [
    "2**10\n"
   ]
  },
  {
   "cell_type": "code",
   "execution_count": 24,
   "id": "879a397e-7096-4179-8839-8db0d0aef320",
   "metadata": {
    "tags": []
   },
   "outputs": [
    {
     "name": "stdout",
     "output_type": "stream",
     "text": [
      "It is an armstrong..\n"
     ]
    }
   ],
   "source": [
    "n = 153\n",
    "org = n\n",
    "count = 0\n",
    "rev = 0\n",
    "while n > 0:\n",
    "    count += 1\n",
    "    n //= 10\n",
    "n = org\n",
    "while n > 0:\n",
    "    rev += pow(n%10,count)\n",
    "    n //= 10\n",
    "if rev == org:\n",
    "    print(\"It is an armstrong..\")\n",
    "else:\n",
    "    print(\"It is not a armstrong..\")"
   ]
  },
  {
   "cell_type": "code",
   "execution_count": null,
   "id": "1f464e1e-343c-4e91-8b73-022fd67cc99f",
   "metadata": {},
   "outputs": [],
   "source": []
  }
 ],
 "metadata": {
  "kernelspec": {
   "display_name": "Python 3 (ipykernel)",
   "language": "python",
   "name": "python3"
  },
  "language_info": {
   "codemirror_mode": {
    "name": "ipython",
    "version": 3
   },
   "file_extension": ".py",
   "mimetype": "text/x-python",
   "name": "python",
   "nbconvert_exporter": "python",
   "pygments_lexer": "ipython3",
   "version": "3.11.5"
  }
 },
 "nbformat": 4,
 "nbformat_minor": 5
}

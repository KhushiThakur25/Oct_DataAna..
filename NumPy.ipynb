{
 "cells": [
  {
   "cell_type": "code",
   "execution_count": 1,
   "id": "ee58638a-c701-4b4f-abbd-839f2e36303b",
   "metadata": {
    "tags": []
   },
   "outputs": [],
   "source": [
    "import numpy as np"
   ]
  },
  {
   "cell_type": "code",
   "execution_count": 2,
   "id": "8d25afbc-8137-4155-baaa-30f1ac0ab4c6",
   "metadata": {
    "tags": []
   },
   "outputs": [
    {
     "name": "stdout",
     "output_type": "stream",
     "text": [
      "[   1   23   45 6455   64    5]\n"
     ]
    }
   ],
   "source": [
    "arr= np.array([1,23,45,6455,64,5])\n",
    "print(arr)"
   ]
  },
  {
   "cell_type": "code",
   "execution_count": 3,
   "id": "d4f330a6-f43d-466d-95ed-5137ff646da2",
   "metadata": {
    "tags": []
   },
   "outputs": [
    {
     "data": {
      "text/plain": [
       "numpy.ndarray"
      ]
     },
     "execution_count": 3,
     "metadata": {},
     "output_type": "execute_result"
    }
   ],
   "source": [
    "type(arr)"
   ]
  },
  {
   "cell_type": "code",
   "execution_count": 4,
   "id": "dcdb0f2f-572d-4d32-bbbd-d9a48ac08b83",
   "metadata": {
    "tags": []
   },
   "outputs": [],
   "source": [
    "arr1 = np.array([[1,2,3],[4,5,6]])"
   ]
  },
  {
   "cell_type": "code",
   "execution_count": 5,
   "id": "fe857909-d9b5-44be-bcdc-f8632650cbd5",
   "metadata": {
    "tags": []
   },
   "outputs": [
    {
     "data": {
      "text/plain": [
       "array([[1, 2, 3],\n",
       "       [4, 5, 6]])"
      ]
     },
     "execution_count": 5,
     "metadata": {},
     "output_type": "execute_result"
    }
   ],
   "source": [
    "arr1"
   ]
  },
  {
   "cell_type": "code",
   "execution_count": 6,
   "id": "f64f3dbc-2775-4c72-9ded-359c883ce5d3",
   "metadata": {
    "tags": []
   },
   "outputs": [
    {
     "data": {
      "text/plain": [
       "numpy.ndarray"
      ]
     },
     "execution_count": 6,
     "metadata": {},
     "output_type": "execute_result"
    }
   ],
   "source": [
    "type(arr1)"
   ]
  },
  {
   "cell_type": "code",
   "execution_count": 43,
   "id": "789a2565-2e20-4954-a74f-6452c1fb2ed3",
   "metadata": {
    "tags": []
   },
   "outputs": [],
   "source": [
    "arr = np.array([[[1,23,4],[1,54,6]],[[1,23,5],[8,5,96]]])"
   ]
  },
  {
   "cell_type": "code",
   "execution_count": 44,
   "id": "cc4bdb68-a542-41cc-a6b9-283d4d0e84d3",
   "metadata": {
    "tags": []
   },
   "outputs": [
    {
     "data": {
      "text/plain": [
       "array([[[  2,  46,   8],\n",
       "        [  2, 108,  12]],\n",
       "\n",
       "       [[  2,  46,  10],\n",
       "        [ 16,  10, 192]]])"
      ]
     },
     "execution_count": 44,
     "metadata": {},
     "output_type": "execute_result"
    }
   ],
   "source": [
    "arr*2"
   ]
  },
  {
   "cell_type": "code",
   "execution_count": 10,
   "id": "3b724f51-c7b4-40b0-a2d2-1319499d903f",
   "metadata": {
    "tags": []
   },
   "outputs": [],
   "source": [
    "arr = np.zeros(5)"
   ]
  },
  {
   "cell_type": "code",
   "execution_count": 11,
   "id": "1ff44035-65d7-43f0-94d4-b985806107f5",
   "metadata": {
    "tags": []
   },
   "outputs": [
    {
     "data": {
      "text/plain": [
       "array([0., 0., 0., 0., 0.])"
      ]
     },
     "execution_count": 11,
     "metadata": {},
     "output_type": "execute_result"
    }
   ],
   "source": [
    "arr"
   ]
  },
  {
   "cell_type": "code",
   "execution_count": 14,
   "id": "34a37833-7ab2-4cbf-86c0-5d5b36b9b120",
   "metadata": {
    "tags": []
   },
   "outputs": [],
   "source": [
    "arr = np.zeros((2,3))"
   ]
  },
  {
   "cell_type": "code",
   "execution_count": 15,
   "id": "f1905905-e73c-44cd-9a79-f0a969e77608",
   "metadata": {
    "tags": []
   },
   "outputs": [
    {
     "data": {
      "text/plain": [
       "array([[0., 0., 0.],\n",
       "       [0., 0., 0.]])"
      ]
     },
     "execution_count": 15,
     "metadata": {},
     "output_type": "execute_result"
    }
   ],
   "source": [
    "arr"
   ]
  },
  {
   "cell_type": "code",
   "execution_count": 16,
   "id": "86927152-f12c-4d74-be29-dc41ed0e322f",
   "metadata": {
    "tags": []
   },
   "outputs": [],
   "source": [
    "arr = np.ones(5)"
   ]
  },
  {
   "cell_type": "code",
   "execution_count": 17,
   "id": "0c7213d7-eacf-44bb-b06e-32b1c44178f8",
   "metadata": {
    "tags": []
   },
   "outputs": [
    {
     "data": {
      "text/plain": [
       "array([1., 1., 1., 1., 1.])"
      ]
     },
     "execution_count": 17,
     "metadata": {},
     "output_type": "execute_result"
    }
   ],
   "source": [
    "arr"
   ]
  },
  {
   "cell_type": "code",
   "execution_count": 18,
   "id": "c38908ca-d1a9-46dc-9d9b-8ee9bc326fcd",
   "metadata": {
    "tags": []
   },
   "outputs": [
    {
     "data": {
      "text/plain": [
       "numpy.ndarray"
      ]
     },
     "execution_count": 18,
     "metadata": {},
     "output_type": "execute_result"
    }
   ],
   "source": [
    "type(arr)"
   ]
  },
  {
   "cell_type": "code",
   "execution_count": 19,
   "id": "453f99a9-9812-41ac-bc1d-6ae467ff8663",
   "metadata": {
    "tags": []
   },
   "outputs": [],
   "source": [
    "arr = np.empty(6)"
   ]
  },
  {
   "cell_type": "code",
   "execution_count": 20,
   "id": "a2badfd6-1857-4a30-87f4-f07e608d0e2b",
   "metadata": {
    "tags": []
   },
   "outputs": [
    {
     "data": {
      "text/plain": [
       "array([0., 0., 0., 0., 0., 0.])"
      ]
     },
     "execution_count": 20,
     "metadata": {},
     "output_type": "execute_result"
    }
   ],
   "source": [
    "arr"
   ]
  },
  {
   "cell_type": "code",
   "execution_count": 21,
   "id": "a5d231c4-5c19-47a4-acf2-d01c3c80eac7",
   "metadata": {
    "tags": []
   },
   "outputs": [],
   "source": [
    "arr = np.empty((2,3))"
   ]
  },
  {
   "cell_type": "code",
   "execution_count": 22,
   "id": "1f0ef412-b4c1-4ca3-b71a-06b2b1cc3f00",
   "metadata": {
    "tags": []
   },
   "outputs": [
    {
     "data": {
      "text/plain": [
       "array([[0., 0., 0.],\n",
       "       [0., 0., 0.]])"
      ]
     },
     "execution_count": 22,
     "metadata": {},
     "output_type": "execute_result"
    }
   ],
   "source": [
    "arr"
   ]
  },
  {
   "cell_type": "code",
   "execution_count": 23,
   "id": "8539c499-64b5-4bbe-9ed8-53552c98576a",
   "metadata": {
    "tags": []
   },
   "outputs": [],
   "source": [
    "arr = np.full((3,4),7)"
   ]
  },
  {
   "cell_type": "code",
   "execution_count": 24,
   "id": "e4491b75-2c44-4150-a408-b6a2f4391721",
   "metadata": {
    "tags": []
   },
   "outputs": [
    {
     "data": {
      "text/plain": [
       "array([[7, 7, 7, 7],\n",
       "       [7, 7, 7, 7],\n",
       "       [7, 7, 7, 7]])"
      ]
     },
     "execution_count": 24,
     "metadata": {},
     "output_type": "execute_result"
    }
   ],
   "source": [
    "arr"
   ]
  },
  {
   "cell_type": "code",
   "execution_count": 25,
   "id": "52ddcbc5-a55c-4d75-bc3c-26a020e58791",
   "metadata": {
    "tags": []
   },
   "outputs": [],
   "source": [
    "arr = np.arange(0,25,3)"
   ]
  },
  {
   "cell_type": "code",
   "execution_count": 26,
   "id": "0ef47493-c65c-4ad5-8954-083a7b8b065d",
   "metadata": {
    "tags": []
   },
   "outputs": [
    {
     "data": {
      "text/plain": [
       "array([ 0,  3,  6,  9, 12, 15, 18, 21, 24])"
      ]
     },
     "execution_count": 26,
     "metadata": {},
     "output_type": "execute_result"
    }
   ],
   "source": [
    "arr"
   ]
  },
  {
   "cell_type": "code",
   "execution_count": 29,
   "id": "b179d2c3-37b2-466f-952a-79fcb9916a9e",
   "metadata": {
    "tags": []
   },
   "outputs": [],
   "source": [
    "arr = np.linspace(0,2,10)"
   ]
  },
  {
   "cell_type": "code",
   "execution_count": 30,
   "id": "7d3e7cd1-8a32-4b4d-8705-024ac5e23691",
   "metadata": {
    "tags": []
   },
   "outputs": [
    {
     "data": {
      "text/plain": [
       "array([0.        , 0.22222222, 0.44444444, 0.66666667, 0.88888889,\n",
       "       1.11111111, 1.33333333, 1.55555556, 1.77777778, 2.        ])"
      ]
     },
     "execution_count": 30,
     "metadata": {},
     "output_type": "execute_result"
    }
   ],
   "source": [
    "arr\n"
   ]
  },
  {
   "cell_type": "code",
   "execution_count": 31,
   "id": "586bb66b-e4f3-4f1c-939a-76e6c1de19d6",
   "metadata": {
    "tags": []
   },
   "outputs": [],
   "source": [
    "arr = np.random.randint(0,15,size = (3,3))"
   ]
  },
  {
   "cell_type": "code",
   "execution_count": 32,
   "id": "a0222854-c003-48ca-bd85-4217f797607e",
   "metadata": {
    "tags": []
   },
   "outputs": [
    {
     "data": {
      "text/plain": [
       "array([[11, 10,  6],\n",
       "       [11, 10,  1],\n",
       "       [ 9, 10,  4]])"
      ]
     },
     "execution_count": 32,
     "metadata": {},
     "output_type": "execute_result"
    }
   ],
   "source": [
    "arr"
   ]
  },
  {
   "cell_type": "code",
   "execution_count": 33,
   "id": "52c76f21-bb39-4902-92d1-64a67064ba28",
   "metadata": {
    "tags": []
   },
   "outputs": [],
   "source": [
    "arr = np.random.randint(0,10,6)"
   ]
  },
  {
   "cell_type": "code",
   "execution_count": 34,
   "id": "f797847c-d5b5-44f0-9e71-b4f975e7961e",
   "metadata": {
    "tags": []
   },
   "outputs": [
    {
     "data": {
      "text/plain": [
       "array([0, 4, 5, 3, 3, 5])"
      ]
     },
     "execution_count": 34,
     "metadata": {},
     "output_type": "execute_result"
    }
   ],
   "source": [
    "arr"
   ]
  },
  {
   "cell_type": "code",
   "execution_count": 37,
   "id": "e955cc83-098e-4fa9-ab79-8019a5aa876e",
   "metadata": {
    "tags": []
   },
   "outputs": [],
   "source": [
    "arr = np.random.random((2,3))"
   ]
  },
  {
   "cell_type": "code",
   "execution_count": 38,
   "id": "71e7db25-7b50-4f4d-9a10-956cb6897590",
   "metadata": {
    "tags": []
   },
   "outputs": [
    {
     "data": {
      "text/plain": [
       "array([[0.99668693, 0.79690162, 0.60487652],\n",
       "       [0.84567437, 0.06986573, 0.69344084]])"
      ]
     },
     "execution_count": 38,
     "metadata": {},
     "output_type": "execute_result"
    }
   ],
   "source": [
    "arr"
   ]
  },
  {
   "cell_type": "code",
   "execution_count": 40,
   "id": "159debcf-fe82-40ff-b0dc-8d6546e60efa",
   "metadata": {
    "tags": []
   },
   "outputs": [],
   "source": [
    "arr = np.random.randn(2,3)"
   ]
  },
  {
   "cell_type": "code",
   "execution_count": 41,
   "id": "97978425-bab3-4604-b155-dd7a554df4fe",
   "metadata": {
    "tags": []
   },
   "outputs": [
    {
     "data": {
      "text/plain": [
       "array([[ 0.59916571,  1.673448  ,  1.04301944],\n",
       "       [-1.74081385, -0.85458706,  2.05752643]])"
      ]
     },
     "execution_count": 41,
     "metadata": {},
     "output_type": "execute_result"
    }
   ],
   "source": [
    "arr"
   ]
  },
  {
   "cell_type": "code",
   "execution_count": 51,
   "id": "465b169b-fa4f-478e-9a2c-0a6934e29b71",
   "metadata": {
    "tags": []
   },
   "outputs": [
    {
     "name": "stdout",
     "output_type": "stream",
     "text": [
      "[0 2 4 6 8]\n"
     ]
    },
    {
     "data": {
      "text/plain": [
       "20"
      ]
     },
     "execution_count": 51,
     "metadata": {},
     "output_type": "execute_result"
    }
   ],
   "source": [
    "arr = np.arange(0,10,2)\n",
    "print(arr)\n",
    "np.sum(arr)"
   ]
  },
  {
   "cell_type": "code",
   "execution_count": 46,
   "id": "dd134cad-0000-446b-9890-a0014108727f",
   "metadata": {
    "tags": []
   },
   "outputs": [
    {
     "data": {
      "text/plain": [
       "2.8284271247461903"
      ]
     },
     "execution_count": 46,
     "metadata": {},
     "output_type": "execute_result"
    }
   ],
   "source": [
    "np.std(arr)"
   ]
  },
  {
   "cell_type": "code",
   "execution_count": 47,
   "id": "919ebdc3-e051-4055-b10c-4c06baf2e80f",
   "metadata": {
    "tags": []
   },
   "outputs": [
    {
     "data": {
      "text/plain": [
       "4.0"
      ]
     },
     "execution_count": 47,
     "metadata": {},
     "output_type": "execute_result"
    }
   ],
   "source": [
    "np.mean(arr)"
   ]
  },
  {
   "cell_type": "code",
   "execution_count": 48,
   "id": "83acddd9-7adc-469f-978a-a82abe7ba77b",
   "metadata": {
    "tags": []
   },
   "outputs": [
    {
     "data": {
      "text/plain": [
       "0"
      ]
     },
     "execution_count": 48,
     "metadata": {},
     "output_type": "execute_result"
    }
   ],
   "source": [
    "np.min(arr)"
   ]
  },
  {
   "cell_type": "code",
   "execution_count": 49,
   "id": "ed07aa12-f7b7-4024-992a-6b75587c53be",
   "metadata": {
    "tags": []
   },
   "outputs": [
    {
     "data": {
      "text/plain": [
       "8"
      ]
     },
     "execution_count": 49,
     "metadata": {},
     "output_type": "execute_result"
    }
   ],
   "source": [
    "np.max(arr)"
   ]
  },
  {
   "cell_type": "code",
   "execution_count": 50,
   "id": "f74a3d8d-ca55-4381-a9e3-262bc432f09f",
   "metadata": {
    "tags": []
   },
   "outputs": [
    {
     "data": {
      "text/plain": [
       "array([0.        , 1.41421356, 2.        , 2.44948974, 2.82842712])"
      ]
     },
     "execution_count": 50,
     "metadata": {},
     "output_type": "execute_result"
    }
   ],
   "source": [
    "np.sqrt(arr)"
   ]
  },
  {
   "cell_type": "code",
   "execution_count": null,
   "id": "cbb1ffc1-40e8-4dc8-89c7-5febeeaca41a",
   "metadata": {},
   "outputs": [],
   "source": []
  }
 ],
 "metadata": {
  "kernelspec": {
   "display_name": "Python 3 (ipykernel)",
   "language": "python",
   "name": "python3"
  },
  "language_info": {
   "codemirror_mode": {
    "name": "ipython",
    "version": 3
   },
   "file_extension": ".py",
   "mimetype": "text/x-python",
   "name": "python",
   "nbconvert_exporter": "python",
   "pygments_lexer": "ipython3",
   "version": "3.11.5"
  }
 },
 "nbformat": 4,
 "nbformat_minor": 5
}

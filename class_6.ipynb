{
 "cells": [
  {
   "cell_type": "code",
   "execution_count": 1,
   "id": "a354ca2f-54b0-433e-88de-a944b39aaaa2",
   "metadata": {
    "tags": []
   },
   "outputs": [
    {
     "data": {
      "text/plain": [
       "'H'"
      ]
     },
     "execution_count": 1,
     "metadata": {},
     "output_type": "execute_result"
    }
   ],
   "source": [
    "st = \"Hello world\"\n",
    "st[0]"
   ]
  },
  {
   "cell_type": "code",
   "execution_count": 2,
   "id": "3a5ac656-879f-46c9-bcd0-6331f5feb039",
   "metadata": {
    "tags": []
   },
   "outputs": [
    {
     "ename": "TypeError",
     "evalue": "'str' object does not support item assignment",
     "output_type": "error",
     "traceback": [
      "\u001b[1;31m---------------------------------------------------------------------------\u001b[0m",
      "\u001b[1;31mTypeError\u001b[0m                                 Traceback (most recent call last)",
      "Cell \u001b[1;32mIn[2], line 1\u001b[0m\n\u001b[1;32m----> 1\u001b[0m st[\u001b[38;5;241m0\u001b[39m] \u001b[38;5;241m=\u001b[39m \u001b[38;5;124m'\u001b[39m\u001b[38;5;124mA\u001b[39m\u001b[38;5;124m'\u001b[39m\n",
      "\u001b[1;31mTypeError\u001b[0m: 'str' object does not support item assignment"
     ]
    }
   ],
   "source": [
    "st[0] = 'A'"
   ]
  },
  {
   "cell_type": "code",
   "execution_count": 3,
   "id": "b02595d4-a565-41ab-922d-1604e79fa81f",
   "metadata": {
    "tags": []
   },
   "outputs": [
    {
     "ename": "TypeError",
     "evalue": "'str' object doesn't support item deletion",
     "output_type": "error",
     "traceback": [
      "\u001b[1;31m---------------------------------------------------------------------------\u001b[0m",
      "\u001b[1;31mTypeError\u001b[0m                                 Traceback (most recent call last)",
      "Cell \u001b[1;32mIn[3], line 1\u001b[0m\n\u001b[1;32m----> 1\u001b[0m \u001b[38;5;28;01mdel\u001b[39;00m st[\u001b[38;5;241m0\u001b[39m]\n",
      "\u001b[1;31mTypeError\u001b[0m: 'str' object doesn't support item deletion"
     ]
    }
   ],
   "source": [
    "del st[0]"
   ]
  },
  {
   "cell_type": "code",
   "execution_count": 4,
   "id": "12ade993-a275-4abb-bbe0-e9e73caadd67",
   "metadata": {
    "tags": []
   },
   "outputs": [
    {
     "data": {
      "text/plain": [
       "str"
      ]
     },
     "execution_count": 4,
     "metadata": {},
     "output_type": "execute_result"
    }
   ],
   "source": [
    "st = 'c'\n",
    "type(st)"
   ]
  },
  {
   "cell_type": "code",
   "execution_count": 5,
   "id": "ab65a524-9095-48ef-aee3-26af11f724bb",
   "metadata": {
    "tags": []
   },
   "outputs": [
    {
     "data": {
      "text/plain": [
       "str"
      ]
     },
     "execution_count": 5,
     "metadata": {},
     "output_type": "execute_result"
    }
   ],
   "source": [
    "st = \"okay\"\n",
    "type(st)"
   ]
  },
  {
   "cell_type": "code",
   "execution_count": 6,
   "id": "241e1a32-79e9-46d9-9f46-358d1923ea64",
   "metadata": {
    "tags": []
   },
   "outputs": [
    {
     "data": {
      "text/plain": [
       "'okay'"
      ]
     },
     "execution_count": 6,
     "metadata": {},
     "output_type": "execute_result"
    }
   ],
   "source": [
    "st"
   ]
  },
  {
   "cell_type": "code",
   "execution_count": 9,
   "id": "5342af6d-c138-46f6-a897-241eab043510",
   "metadata": {
    "tags": []
   },
   "outputs": [],
   "source": [
    "st = \"This is python language..\"\n",
    "st = st.upper()"
   ]
  },
  {
   "cell_type": "code",
   "execution_count": 10,
   "id": "3b836501-bed3-4ecb-9a51-fadc6e537b10",
   "metadata": {
    "tags": []
   },
   "outputs": [
    {
     "data": {
      "text/plain": [
       "'THIS IS PYTHON LANGUAGE..'"
      ]
     },
     "execution_count": 10,
     "metadata": {},
     "output_type": "execute_result"
    }
   ],
   "source": [
    "st"
   ]
  },
  {
   "cell_type": "code",
   "execution_count": 11,
   "id": "004bb174-decb-421a-8e94-ba22a74db8fe",
   "metadata": {
    "tags": []
   },
   "outputs": [
    {
     "data": {
      "text/plain": [
       "'this is python language..'"
      ]
     },
     "execution_count": 11,
     "metadata": {},
     "output_type": "execute_result"
    }
   ],
   "source": [
    "st = \"This is python language..\"\n",
    "st.lower()"
   ]
  },
  {
   "cell_type": "code",
   "execution_count": 12,
   "id": "296c5166-25f0-4761-8dc5-dba9ed11f0b5",
   "metadata": {
    "tags": []
   },
   "outputs": [
    {
     "data": {
      "text/plain": [
       "'This Is Python Language..'"
      ]
     },
     "execution_count": 12,
     "metadata": {},
     "output_type": "execute_result"
    }
   ],
   "source": [
    "st.title()"
   ]
  },
  {
   "cell_type": "code",
   "execution_count": 13,
   "id": "76d47fb3-1d51-4801-9c94-951d37e9a494",
   "metadata": {
    "tags": []
   },
   "outputs": [
    {
     "data": {
      "text/plain": [
       "'tHIS IS PYTHON LANGUAGE..'"
      ]
     },
     "execution_count": 13,
     "metadata": {},
     "output_type": "execute_result"
    }
   ],
   "source": [
    "st.swapcase()"
   ]
  },
  {
   "cell_type": "code",
   "execution_count": 14,
   "id": "2130eafe-bee9-4bcc-b9e9-a4eed9f3f172",
   "metadata": {
    "tags": []
   },
   "outputs": [
    {
     "data": {
      "text/plain": [
       "'This is python language..'"
      ]
     },
     "execution_count": 14,
     "metadata": {},
     "output_type": "execute_result"
    }
   ],
   "source": [
    "st.capitalize()"
   ]
  },
  {
   "cell_type": "code",
   "execution_count": 15,
   "id": "18d34b7f-be34-4883-b6d5-9dffb9385863",
   "metadata": {
    "tags": []
   },
   "outputs": [
    {
     "data": {
      "text/plain": [
       "25"
      ]
     },
     "execution_count": 15,
     "metadata": {},
     "output_type": "execute_result"
    }
   ],
   "source": [
    "len(st)"
   ]
  },
  {
   "cell_type": "code",
   "execution_count": 16,
   "id": "2af7f279-2865-4a26-9a95-c65b4b5a3ea0",
   "metadata": {
    "tags": []
   },
   "outputs": [
    {
     "data": {
      "text/plain": [
       "2"
      ]
     },
     "execution_count": 16,
     "metadata": {},
     "output_type": "execute_result"
    }
   ],
   "source": [
    "st.count('a')"
   ]
  },
  {
   "cell_type": "code",
   "execution_count": 17,
   "id": "6695e0ec-b5aa-4db6-b7e9-0ab586175da5",
   "metadata": {
    "tags": []
   },
   "outputs": [
    {
     "data": {
      "text/plain": [
       "False"
      ]
     },
     "execution_count": 17,
     "metadata": {},
     "output_type": "execute_result"
    }
   ],
   "source": [
    "\"Hello\" == \"hello\""
   ]
  },
  {
   "cell_type": "code",
   "execution_count": 18,
   "id": "c08250e9-b21b-4a80-a97d-0059957e710d",
   "metadata": {
    "tags": []
   },
   "outputs": [
    {
     "data": {
      "text/plain": [
       "True"
      ]
     },
     "execution_count": 18,
     "metadata": {},
     "output_type": "execute_result"
    }
   ],
   "source": [
    "\"Hello\".casefold() == \"hello\".casefold()"
   ]
  },
  {
   "cell_type": "code",
   "execution_count": 20,
   "id": "80a3fdc9-c92d-47ee-8f70-ab04c315bee9",
   "metadata": {
    "tags": []
   },
   "outputs": [
    {
     "data": {
      "text/plain": [
       "'Thqs is python language..'"
      ]
     },
     "execution_count": 20,
     "metadata": {},
     "output_type": "execute_result"
    }
   ],
   "source": [
    "st.replace('i','q',1)"
   ]
  },
  {
   "cell_type": "code",
   "execution_count": 23,
   "id": "e9668e0b-3dde-4a22-b07a-bef59a1dffb1",
   "metadata": {
    "tags": []
   },
   "outputs": [],
   "source": [
    "m = st.split()"
   ]
  },
  {
   "cell_type": "code",
   "execution_count": 24,
   "id": "d64af232-6faf-41f1-98b7-4a381395d49a",
   "metadata": {
    "tags": []
   },
   "outputs": [
    {
     "data": {
      "text/plain": [
       "['This', 'is', 'python', 'language..']"
      ]
     },
     "execution_count": 24,
     "metadata": {},
     "output_type": "execute_result"
    }
   ],
   "source": [
    "m"
   ]
  },
  {
   "cell_type": "code",
   "execution_count": 25,
   "id": "3164b43f-6c92-4e6e-8355-38c2b92091e5",
   "metadata": {
    "tags": []
   },
   "outputs": [
    {
     "data": {
      "text/plain": [
       "'This is python language..'"
      ]
     },
     "execution_count": 25,
     "metadata": {},
     "output_type": "execute_result"
    }
   ],
   "source": [
    "' '.join(m)"
   ]
  },
  {
   "cell_type": "code",
   "execution_count": 27,
   "id": "d08dde8e-d322-47ba-ad74-52758236fdb8",
   "metadata": {
    "tags": []
   },
   "outputs": [
    {
     "data": {
      "text/plain": [
       "['the', ',', 'happy', ',', 'family', ',', 'stay', ',', 'alive']"
      ]
     },
     "execution_count": 27,
     "metadata": {},
     "output_type": "execute_result"
    }
   ],
   "source": [
    "n = \"the , happy , family , stay , alive\"\n",
    "n.split(' ')"
   ]
  },
  {
   "cell_type": "code",
   "execution_count": 32,
   "id": "9ff9d591-325f-4c89-a21c-12ea88bea8d8",
   "metadata": {
    "tags": []
   },
   "outputs": [
    {
     "data": {
      "text/plain": [
       "'this is my toy'"
      ]
     },
     "execution_count": 32,
     "metadata": {},
     "output_type": "execute_result"
    }
   ],
   "source": [
    "m = \"...this is my toy....\"\n",
    "m.strip(\".\")"
   ]
  },
  {
   "cell_type": "code",
   "execution_count": 33,
   "id": "9e1837e9-c9c1-4035-9c2e-16a7e508080d",
   "metadata": {
    "tags": []
   },
   "outputs": [
    {
     "data": {
      "text/plain": [
       "('This is ', 'm', 'y car')"
      ]
     },
     "execution_count": 33,
     "metadata": {},
     "output_type": "execute_result"
    }
   ],
   "source": [
    "m = \"This is my car\"\n",
    "m.partition('m')"
   ]
  },
  {
   "cell_type": "code",
   "execution_count": 34,
   "id": "2aad4603-188e-496e-aa35-9b38965020e7",
   "metadata": {
    "tags": []
   },
   "outputs": [
    {
     "data": {
      "text/plain": [
       "2"
      ]
     },
     "execution_count": 34,
     "metadata": {},
     "output_type": "execute_result"
    }
   ],
   "source": [
    "m.index('i')"
   ]
  },
  {
   "cell_type": "code",
   "execution_count": 35,
   "id": "b18d4435-984e-48e0-9a5c-7f1439d64049",
   "metadata": {
    "tags": []
   },
   "outputs": [
    {
     "data": {
      "text/plain": [
       "5"
      ]
     },
     "execution_count": 35,
     "metadata": {},
     "output_type": "execute_result"
    }
   ],
   "source": [
    "m.rindex('i')"
   ]
  },
  {
   "cell_type": "code",
   "execution_count": 36,
   "id": "f364742d-d0d7-4d7b-b1f1-854a1e5731fe",
   "metadata": {
    "tags": []
   },
   "outputs": [
    {
     "ename": "ValueError",
     "evalue": "substring not found",
     "output_type": "error",
     "traceback": [
      "\u001b[1;31m---------------------------------------------------------------------------\u001b[0m",
      "\u001b[1;31mValueError\u001b[0m                                Traceback (most recent call last)",
      "Cell \u001b[1;32mIn[36], line 1\u001b[0m\n\u001b[1;32m----> 1\u001b[0m m\u001b[38;5;241m.\u001b[39mindex(\u001b[38;5;124m'\u001b[39m\u001b[38;5;124mz\u001b[39m\u001b[38;5;124m'\u001b[39m)\n",
      "\u001b[1;31mValueError\u001b[0m: substring not found"
     ]
    }
   ],
   "source": [
    "m.index('z')"
   ]
  },
  {
   "cell_type": "code",
   "execution_count": 37,
   "id": "ee894795-3343-4ae4-9015-6ed0f7f38b83",
   "metadata": {
    "tags": []
   },
   "outputs": [
    {
     "data": {
      "text/plain": [
       "2"
      ]
     },
     "execution_count": 37,
     "metadata": {},
     "output_type": "execute_result"
    }
   ],
   "source": [
    "m.find('i')"
   ]
  },
  {
   "cell_type": "code",
   "execution_count": 38,
   "id": "6419a813-47ef-48ac-9e1f-06c317943785",
   "metadata": {
    "tags": []
   },
   "outputs": [
    {
     "data": {
      "text/plain": [
       "5"
      ]
     },
     "execution_count": 38,
     "metadata": {},
     "output_type": "execute_result"
    }
   ],
   "source": [
    "m.rfind('i')"
   ]
  },
  {
   "cell_type": "code",
   "execution_count": 39,
   "id": "e53a388c-61aa-4b28-bbb3-f7d86d31238e",
   "metadata": {
    "tags": []
   },
   "outputs": [
    {
     "data": {
      "text/plain": [
       "-1"
      ]
     },
     "execution_count": 39,
     "metadata": {},
     "output_type": "execute_result"
    }
   ],
   "source": [
    "m.find('z')"
   ]
  },
  {
   "cell_type": "code",
   "execution_count": 40,
   "id": "98da69f2-066e-421a-91e4-414ec6b5271c",
   "metadata": {
    "tags": []
   },
   "outputs": [
    {
     "data": {
      "text/plain": [
       "False"
      ]
     },
     "execution_count": 40,
     "metadata": {},
     "output_type": "execute_result"
    }
   ],
   "source": [
    "m.isupper()"
   ]
  },
  {
   "cell_type": "code",
   "execution_count": 41,
   "id": "74e740aa-87fe-49ce-acf6-dc6cfec4b9c1",
   "metadata": {
    "tags": []
   },
   "outputs": [
    {
     "data": {
      "text/plain": [
       "False"
      ]
     },
     "execution_count": 41,
     "metadata": {},
     "output_type": "execute_result"
    }
   ],
   "source": [
    "m.islower()"
   ]
  },
  {
   "cell_type": "code",
   "execution_count": 43,
   "id": "9fab0817-e498-4132-9a76-fcabb7ec57cf",
   "metadata": {
    "tags": []
   },
   "outputs": [
    {
     "data": {
      "text/plain": [
       "False"
      ]
     },
     "execution_count": 43,
     "metadata": {},
     "output_type": "execute_result"
    }
   ],
   "source": [
    "m.isalpha()"
   ]
  },
  {
   "cell_type": "code",
   "execution_count": 45,
   "id": "84abf34c-9656-4f56-8797-6b23087d9bab",
   "metadata": {
    "tags": []
   },
   "outputs": [
    {
     "data": {
      "text/plain": [
       "False"
      ]
     },
     "execution_count": 45,
     "metadata": {},
     "output_type": "execute_result"
    }
   ],
   "source": [
    "m.isnumeric()"
   ]
  },
  {
   "cell_type": "code",
   "execution_count": 56,
   "id": "c5679b74-6cf1-4a96-a600-c94ecdb4e1b1",
   "metadata": {
    "tags": []
   },
   "outputs": [],
   "source": [
    "st = \"Hello world\""
   ]
  },
  {
   "cell_type": "code",
   "execution_count": 47,
   "id": "e86e5836-43cc-4582-b0a8-9e9087c16498",
   "metadata": {
    "tags": []
   },
   "outputs": [
    {
     "data": {
      "text/plain": [
       "'H'"
      ]
     },
     "execution_count": 47,
     "metadata": {},
     "output_type": "execute_result"
    }
   ],
   "source": [
    "st[0]"
   ]
  },
  {
   "cell_type": "code",
   "execution_count": 48,
   "id": "3f2a27e6-dada-4cd4-930a-ed610afb65e9",
   "metadata": {
    "tags": []
   },
   "outputs": [
    {
     "data": {
      "text/plain": [
       "'Hello'"
      ]
     },
     "execution_count": 48,
     "metadata": {},
     "output_type": "execute_result"
    }
   ],
   "source": [
    "st[0:5]"
   ]
  },
  {
   "cell_type": "code",
   "execution_count": 50,
   "id": "a7ff20e4-6f63-4ec9-9ac8-1897b3735d15",
   "metadata": {
    "tags": []
   },
   "outputs": [
    {
     "data": {
      "text/plain": [
       "'el ol'"
      ]
     },
     "execution_count": 50,
     "metadata": {},
     "output_type": "execute_result"
    }
   ],
   "source": [
    "st[1::2]"
   ]
  },
  {
   "cell_type": "code",
   "execution_count": 53,
   "id": "b07f6957-86a7-4143-9089-23aceb91671e",
   "metadata": {
    "tags": []
   },
   "outputs": [
    {
     "data": {
      "text/plain": [
       "''"
      ]
     },
     "execution_count": 53,
     "metadata": {},
     "output_type": "execute_result"
    }
   ],
   "source": [
    "st[10:-1:-1]"
   ]
  },
  {
   "cell_type": "code",
   "execution_count": 54,
   "id": "fefe451f-cd54-4edb-8815-406da640aff4",
   "metadata": {
    "tags": []
   },
   "outputs": [
    {
     "data": {
      "text/plain": [
       "'dlrow olleH'"
      ]
     },
     "execution_count": 54,
     "metadata": {},
     "output_type": "execute_result"
    }
   ],
   "source": [
    "st[::-1]"
   ]
  },
  {
   "cell_type": "code",
   "execution_count": 57,
   "id": "6948acdc-0fb9-4b02-95c1-34448fdda0a9",
   "metadata": {
    "tags": []
   },
   "outputs": [
    {
     "name": "stdout",
     "output_type": "stream",
     "text": [
      "No it is not present..\n"
     ]
    }
   ],
   "source": [
    "if 'a' in st:\n",
    "    print(\"Yes it is present..\")\n",
    "else:\n",
    "    print(\"No it is not present..\")"
   ]
  },
  {
   "cell_type": "code",
   "execution_count": 62,
   "id": "48f74aeb-ee21-4817-baea-5e2db360b26e",
   "metadata": {
    "tags": []
   },
   "outputs": [
    {
     "name": "stdout",
     "output_type": "stream",
     "text": [
      "2\n"
     ]
    }
   ],
   "source": [
    "count = 0\n",
    "for i in st:\n",
    "    if 'o' == i:\n",
    "        count += 1\n",
    "print(count)"
   ]
  },
  {
   "cell_type": "code",
   "execution_count": null,
   "id": "2639fb60-5889-4a2b-93f5-c358a4ca300a",
   "metadata": {
    "tags": []
   },
   "outputs": [],
   "source": []
  },
  {
   "cell_type": "code",
   "execution_count": null,
   "id": "8ffcfb29-911d-49ba-99f8-13001b9002d9",
   "metadata": {},
   "outputs": [],
   "source": []
  }
 ],
 "metadata": {
  "kernelspec": {
   "display_name": "Python 3 (ipykernel)",
   "language": "python",
   "name": "python3"
  },
  "language_info": {
   "codemirror_mode": {
    "name": "ipython",
    "version": 3
   },
   "file_extension": ".py",
   "mimetype": "text/x-python",
   "name": "python",
   "nbconvert_exporter": "python",
   "pygments_lexer": "ipython3",
   "version": "3.11.5"
  }
 },
 "nbformat": 4,
 "nbformat_minor": 5
}

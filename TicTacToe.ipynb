{
 "cells": [
  {
   "cell_type": "code",
   "execution_count": null,
   "id": "523830d3-7de6-4d7d-80dc-a48467ef237c",
   "metadata": {
    "tags": []
   },
   "outputs": [
    {
     "name": "stdout",
     "output_type": "stream",
     "text": [
      "\n",
      "      |   |   \n",
      "    -----------\n",
      "      |   |  \n",
      "    -----------\n",
      "      |   |  \n"
     ]
    },
    {
     "name": "stdin",
     "output_type": "stream",
     "text": [
      "Enter your choice X or 0 k\n",
      "Enter the position to move .. 5\n"
     ]
    },
    {
     "name": "stdout",
     "output_type": "stream",
     "text": [
      "\n",
      "      |   |   \n",
      "    -----------\n",
      "      | K |  \n",
      "    -----------\n",
      "      |   |  \n",
      "\n",
      "      | X |   \n",
      "    -----------\n",
      "      | K |  \n",
      "    -----------\n",
      "      |   |  \n"
     ]
    }
   ],
   "source": [
    "import random\n",
    "# this is the values list(board list)\n",
    "positions = [\" \" for i in range(1,10)]\n",
    "occupied = []\n",
    "\n",
    "def user_fun(user_choice):\n",
    "    pos = int(input(\"Enter the position to move ..\"))\n",
    "    if pos in occupied:\n",
    "        print(\"You can't move at this position..\")\n",
    "        user_fun(user_choice)\n",
    "    else:\n",
    "        positions[pos-1] = user_choice\n",
    "        occupied.append(pos)\n",
    "\n",
    "def cpu_fun(cpu_choice):\n",
    "    pos = random.randint(1,9)\n",
    "    if pos in occupied:\n",
    "        cpu_fun(cpu_choice)\n",
    "    else:\n",
    "        positions[pos-1] = cpu_choice\n",
    "        occupied.append(pos)\n",
    "\n",
    "\n",
    "#this is gameboard\n",
    "def gameBoard():\n",
    "    print(\"\"\"\n",
    "    {} | {} | {} \n",
    "    -----------\n",
    "    {} | {} | {}\n",
    "    -----------\n",
    "    {} | {} | {}\"\"\".format(positions[0],positions[1],positions[2],\n",
    "                          positions[3],positions[4],positions[5],\n",
    "                          positions[6],positions[7],positions[8]))\n",
    "\n",
    "\n",
    "#input choices of players\n",
    "def main():\n",
    "    gameBoard()\n",
    "    user_choice = input(\"Enter your choice X or 0\").upper()\n",
    "\n",
    "    if user_choice == 'X':\n",
    "        cpu_choice = '0'\n",
    "    else:\n",
    "        cpu_choice = 'X'\n",
    "    count = 0\n",
    "\n",
    "    while count < 5:\n",
    "        count += 1\n",
    "        user_fun(user_choice)\n",
    "        gameBoard()\n",
    "        cpu_fun(cpu_choice)\n",
    "        gameBoard()\n",
    "\n",
    "main()\n",
    "    "
   ]
  },
  {
   "cell_type": "code",
   "execution_count": null,
   "id": "a68c389c-f8bd-4dc1-be0a-3824037c2f4e",
   "metadata": {
    "tags": []
   },
   "outputs": [],
   "source": []
  },
  {
   "cell_type": "code",
   "execution_count": null,
   "id": "8803450c-a2e9-47c5-bef2-5edadb5ed185",
   "metadata": {},
   "outputs": [],
   "source": []
  }
 ],
 "metadata": {
  "kernelspec": {
   "display_name": "Python 3 (ipykernel)",
   "language": "python",
   "name": "python3"
  },
  "language_info": {
   "codemirror_mode": {
    "name": "ipython",
    "version": 3
   },
   "file_extension": ".py",
   "mimetype": "text/x-python",
   "name": "python",
   "nbconvert_exporter": "python",
   "pygments_lexer": "ipython3",
   "version": "3.11.5"
  }
 },
 "nbformat": 4,
 "nbformat_minor": 5
}

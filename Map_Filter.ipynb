{
 "cells": [
  {
   "cell_type": "code",
   "execution_count": 12,
   "id": "b7f3fdf1-b476-4280-9677-543f19d16e47",
   "metadata": {
    "tags": []
   },
   "outputs": [],
   "source": [
    "def km_to_m(n):\n",
    "    return n*1000\n",
    "\n",
    "def cel_to_f(n):\n",
    "    return n*(9/5) + 32\n",
    "\n",
    "km = [2,45,84,5,64,6,54,12,6]\n",
    "# m = []\n",
    "\n",
    "cel = [23,155,146,416,45,15,46,24]\n",
    "# f = []\n",
    "# for i in range(len(km)):\n",
    "#     m.append(km_to_m(km[i]))\n",
    "    \n",
    "# for i in range(len(cel)):\n",
    "#     f.append(cel_to_f(cel[i]))\n",
    "\n"
   ]
  },
  {
   "cell_type": "code",
   "execution_count": 15,
   "id": "8a098f3d-28f1-4210-9a20-d419ccb83bff",
   "metadata": {
    "tags": []
   },
   "outputs": [
    {
     "data": {
      "text/plain": [
       "[2000, 45000, 84000, 5000, 64000, 6000, 54000, 12000, 6000]"
      ]
     },
     "execution_count": 15,
     "metadata": {},
     "output_type": "execute_result"
    }
   ],
   "source": [
    "# def mapping_code():\n",
    "list(map(km_to_m , km))  "
   ]
  },
  {
   "cell_type": "code",
   "execution_count": 13,
   "id": "7f28d98b-51f9-4e7f-9d97-148102437a47",
   "metadata": {
    "tags": []
   },
   "outputs": [
    {
     "data": {
      "text/plain": [
       "[73.4, 311.0, 294.8, 780.8000000000001, 113.0, 59.0, 114.8, 75.2]"
      ]
     },
     "execution_count": 13,
     "metadata": {},
     "output_type": "execute_result"
    }
   ],
   "source": [
    "list(map(cel_to_f,cel))\n"
   ]
  },
  {
   "cell_type": "code",
   "execution_count": 19,
   "id": "e8578cae-0a8b-4a94-9c59-723942a9330f",
   "metadata": {
    "tags": []
   },
   "outputs": [
    {
     "data": {
      "text/plain": [
       "[566, 24, 154, 634, 4]"
      ]
     },
     "execution_count": 19,
     "metadata": {},
     "output_type": "execute_result"
    }
   ],
   "source": [
    "def even(n):\n",
    "    return n%2 == 0\n",
    "def odd(n):\n",
    "    return n%2 != 0\n",
    "li = [566,24,651,161,21,154,634,655,4]\n",
    "\n",
    "# e = []\n",
    "# o = []\n",
    "\n",
    "# for i in li:\n",
    "#     if even(i):\n",
    "#         e.append(i)\n",
    "#     elif odd(i):\n",
    "#         o.append(i)\n",
    "list(filter(even,li))"
   ]
  },
  {
   "cell_type": "code",
   "execution_count": 20,
   "id": "40149f48-f84e-4c14-9521-57720947dcce",
   "metadata": {
    "tags": []
   },
   "outputs": [
    {
     "data": {
      "text/plain": [
       "[651, 161, 21, 655]"
      ]
     },
     "execution_count": 20,
     "metadata": {},
     "output_type": "execute_result"
    }
   ],
   "source": [
    "list(filter(odd,li))"
   ]
  },
  {
   "cell_type": "code",
   "execution_count": 30,
   "id": "2ee00959-9b71-4db2-8128-97df9741f7be",
   "metadata": {
    "tags": []
   },
   "outputs": [
    {
     "data": {
      "text/plain": [
       "70.6"
      ]
     },
     "execution_count": 30,
     "metadata": {},
     "output_type": "execute_result"
    }
   ],
   "source": [
    "eval(\"56+21-32/5\")"
   ]
  },
  {
   "cell_type": "code",
   "execution_count": 27,
   "id": "f2a7ef86-c365-4da4-af48-f962877933c2",
   "metadata": {
    "tags": []
   },
   "outputs": [],
   "source": [
    "exec(\"b = 25 + 65\")"
   ]
  },
  {
   "cell_type": "code",
   "execution_count": 28,
   "id": "cdbb2f3c-614f-41a7-b8c4-01a0b7918064",
   "metadata": {
    "tags": []
   },
   "outputs": [
    {
     "data": {
      "text/plain": [
       "90"
      ]
     },
     "execution_count": 28,
     "metadata": {},
     "output_type": "execute_result"
    }
   ],
   "source": [
    "b"
   ]
  },
  {
   "cell_type": "code",
   "execution_count": 35,
   "id": "b61bec0f-6230-45b0-820f-f8e8e84836a2",
   "metadata": {
    "tags": []
   },
   "outputs": [],
   "source": [
    "name = [\"Amit\",\"Mansi\",\"Riya\",\"Jay\",\"Om\",\"naman\"]\n",
    "marks = [62,75,85,74,95]"
   ]
  },
  {
   "cell_type": "code",
   "execution_count": 36,
   "id": "b96ce1be-21bb-4330-be1c-47826059d6b9",
   "metadata": {
    "tags": []
   },
   "outputs": [
    {
     "data": {
      "text/plain": [
       "{'Amit': 62, 'Mansi': 75, 'Riya': 85, 'Jay': 74, 'Om': 95}"
      ]
     },
     "execution_count": 36,
     "metadata": {},
     "output_type": "execute_result"
    }
   ],
   "source": [
    "dict(zip(name,marks))"
   ]
  },
  {
   "cell_type": "code",
   "execution_count": 40,
   "id": "08ad91b6-f02e-4409-9ffd-b8258b2178e9",
   "metadata": {
    "tags": []
   },
   "outputs": [
    {
     "name": "stdout",
     "output_type": "stream",
     "text": [
      "(1001, 'Amit')\n",
      "(1002, 'Mansi')\n",
      "(1003, 'Riya')\n",
      "(1004, 'Jay')\n",
      "(1005, 'Om')\n",
      "(1006, 'naman')\n"
     ]
    }
   ],
   "source": [
    "for i in enumerate(name,1001):\n",
    "    print(i)"
   ]
  },
  {
   "cell_type": "code",
   "execution_count": 41,
   "id": "adb95b45-7acf-4a09-838a-dafc984c4048",
   "metadata": {
    "tags": []
   },
   "outputs": [
    {
     "name": "stdout",
     "output_type": "stream",
     "text": [
      "56\n"
     ]
    }
   ],
   "source": [
    "n = -56\n",
    "print(abs(n))"
   ]
  },
  {
   "cell_type": "code",
   "execution_count": null,
   "id": "a4a53731-aadf-4318-a17a-82fd4cf405ec",
   "metadata": {
    "tags": []
   },
   "outputs": [],
   "source": []
  },
  {
   "cell_type": "code",
   "execution_count": null,
   "id": "4a8ce787-9e55-4a03-9920-a0b198582aae",
   "metadata": {},
   "outputs": [],
   "source": []
  }
 ],
 "metadata": {
  "kernelspec": {
   "display_name": "Python 3 (ipykernel)",
   "language": "python",
   "name": "python3"
  },
  "language_info": {
   "codemirror_mode": {
    "name": "ipython",
    "version": 3
   },
   "file_extension": ".py",
   "mimetype": "text/x-python",
   "name": "python",
   "nbconvert_exporter": "python",
   "pygments_lexer": "ipython3",
   "version": "3.11.5"
  }
 },
 "nbformat": 4,
 "nbformat_minor": 5
}

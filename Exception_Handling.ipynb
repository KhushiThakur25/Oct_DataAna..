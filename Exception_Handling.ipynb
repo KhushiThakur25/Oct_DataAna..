{
 "cells": [
  {
   "cell_type": "code",
   "execution_count": 1,
   "id": "515659ed-61d7-49c7-9729-b927fd17b11a",
   "metadata": {
    "tags": []
   },
   "outputs": [
    {
     "ename": "ZeroDivisionError",
     "evalue": "division by zero",
     "output_type": "error",
     "traceback": [
      "\u001b[1;31m---------------------------------------------------------------------------\u001b[0m",
      "\u001b[1;31mZeroDivisionError\u001b[0m                         Traceback (most recent call last)",
      "Cell \u001b[1;32mIn[1], line 1\u001b[0m\n\u001b[1;32m----> 1\u001b[0m \u001b[38;5;241m12\u001b[39m\u001b[38;5;241m/\u001b[39m\u001b[38;5;241m0\u001b[39m\n",
      "\u001b[1;31mZeroDivisionError\u001b[0m: division by zero"
     ]
    }
   ],
   "source": [
    "12/0"
   ]
  },
  {
   "cell_type": "code",
   "execution_count": 3,
   "id": "c8218f94-e6a5-45d3-b814-d69263a3fc0e",
   "metadata": {
    "tags": []
   },
   "outputs": [
    {
     "name": "stdin",
     "output_type": "stream",
     "text": [
      "Enter the value \n"
     ]
    },
    {
     "ename": "ValueError",
     "evalue": "invalid literal for int() with base 10: ''",
     "output_type": "error",
     "traceback": [
      "\u001b[1;31m---------------------------------------------------------------------------\u001b[0m",
      "\u001b[1;31mValueError\u001b[0m                                Traceback (most recent call last)",
      "Cell \u001b[1;32mIn[3], line 1\u001b[0m\n\u001b[1;32m----> 1\u001b[0m st \u001b[38;5;241m=\u001b[39m \u001b[38;5;28mint\u001b[39m(\u001b[38;5;28minput\u001b[39m(\u001b[38;5;124m\"\u001b[39m\u001b[38;5;124mEnter the value\u001b[39m\u001b[38;5;124m\"\u001b[39m))\n",
      "\u001b[1;31mValueError\u001b[0m: invalid literal for int() with base 10: ''"
     ]
    }
   ],
   "source": [
    "st = int(input(\"Enter the value\"))"
   ]
  },
  {
   "cell_type": "code",
   "execution_count": 4,
   "id": "c887d1cd-f9c1-4a7a-8a60-661cd4d38ef3",
   "metadata": {
    "tags": []
   },
   "outputs": [
    {
     "ename": "IndexError",
     "evalue": "list index out of range",
     "output_type": "error",
     "traceback": [
      "\u001b[1;31m---------------------------------------------------------------------------\u001b[0m",
      "\u001b[1;31mIndexError\u001b[0m                                Traceback (most recent call last)",
      "Cell \u001b[1;32mIn[4], line 2\u001b[0m\n\u001b[0;32m      1\u001b[0m n \u001b[38;5;241m=\u001b[39m [\u001b[38;5;241m12\u001b[39m,\u001b[38;5;241m3\u001b[39m,\u001b[38;5;241m54\u001b[39m]\n\u001b[1;32m----> 2\u001b[0m n[\u001b[38;5;241m12\u001b[39m]\n",
      "\u001b[1;31mIndexError\u001b[0m: list index out of range"
     ]
    }
   ],
   "source": [
    "n = [12,3,54]\n",
    "n[12]"
   ]
  },
  {
   "cell_type": "code",
   "execution_count": 30,
   "id": "6dbead87-d53d-4508-8a7b-b6a4733bc74b",
   "metadata": {
    "tags": []
   },
   "outputs": [
    {
     "name": "stdin",
     "output_type": "stream",
     "text": [
      "Enter the value of a 23\n",
      "Enter the value of b 0\n"
     ]
    },
    {
     "name": "stdout",
     "output_type": "stream",
     "text": [
      "Addition is 23\n",
      "Subtraction is 23\n",
      "Multiplication is 0\n",
      "division by zero\n",
      "I'm always executed.. \n"
     ]
    }
   ],
   "source": [
    "try:    \n",
    "    a = int(input(\"Enter the value of a\"))\n",
    "    b = int(input(\"Enter the value of b\"))\n",
    "    \n",
    "    add(a,b)\n",
    "    sub(a,b)\n",
    "    mul(a,b)\n",
    "    div(a,b)\n",
    "\n",
    "except ZeroDivisionError as msg:\n",
    "    print(msg)\n",
    "except ValueError as msg:\n",
    "    print(msg)\n",
    "except Exception as msg:\n",
    "    print(msg)\n",
    "else:\n",
    "    def add(a,b):\n",
    "        print(f\"Addition is {a+b}\")\n",
    "    def sub(a,b):\n",
    "        print(f\"Subtraction is {a-b}\")\n",
    "    def mul(a,b):\n",
    "        print(f\"Multiplication is {a*b}\")\n",
    "    def div(a,b):\n",
    "        print(f\"Division is {a/b}\")\n",
    "finally: \n",
    "    print(\"I'm always executed.. \")\n",
    "\n",
    "\n",
    "\n"
   ]
  },
  {
   "cell_type": "code",
   "execution_count": 27,
   "id": "3336228c-3783-48d3-86fa-2b260d71317a",
   "metadata": {
    "tags": []
   },
   "outputs": [
    {
     "name": "stdin",
     "output_type": "stream",
     "text": [
      "Enter the PIN 1234\n"
     ]
    },
    {
     "name": "stdout",
     "output_type": "stream",
     "text": [
      "Login successfully\n"
     ]
    },
    {
     "name": "stdin",
     "output_type": "stream",
     "text": [
      "Enter the Amount 32656\n"
     ]
    },
    {
     "name": "stdout",
     "output_type": "stream",
     "text": [
      "Insufficient balance\n"
     ]
    }
   ],
   "source": [
    "try:\n",
    "    def atm(PIN):\n",
    "        if PIN == '1234':\n",
    "            print(\"Login successfully\")\n",
    "        else:\n",
    "            raise ValueError(\"Login failed\")\n",
    "        amount = int(input(\"Enter the Amount\"))\n",
    "        total = 10000\n",
    "        if total >= amount:\n",
    "            print(f\"your remaining balance is {total - amount}\")\n",
    "        else:\n",
    "            print(\"Insufficient balance\")\n",
    "except ValueError as msg:\n",
    "    print(msg)\n",
    "    \n",
    "Pin = input(\"Enter the PIN\")\n",
    "atm(Pin)"
   ]
  },
  {
   "cell_type": "code",
   "execution_count": null,
   "id": "09bbe46a-661c-4eb5-8184-e02192e8bdd6",
   "metadata": {},
   "outputs": [],
   "source": []
  }
 ],
 "metadata": {
  "kernelspec": {
   "display_name": "Python 3 (ipykernel)",
   "language": "python",
   "name": "python3"
  },
  "language_info": {
   "codemirror_mode": {
    "name": "ipython",
    "version": 3
   },
   "file_extension": ".py",
   "mimetype": "text/x-python",
   "name": "python",
   "nbconvert_exporter": "python",
   "pygments_lexer": "ipython3",
   "version": "3.11.5"
  }
 },
 "nbformat": 4,
 "nbformat_minor": 5
}

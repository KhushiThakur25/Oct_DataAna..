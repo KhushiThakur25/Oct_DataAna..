{
 "cells": [
  {
   "cell_type": "code",
   "execution_count": 8,
   "id": "5c562c7c-4c1a-4554-a4c9-15131bf1ef3b",
   "metadata": {
    "tags": []
   },
   "outputs": [
    {
     "name": "stdout",
     "output_type": "stream",
     "text": [
      "Hello I'm calc..\n",
      "25\n"
     ]
    }
   ],
   "source": [
    "#user-defined function\n",
    "\n",
    "#this is the function definition..& brackets values are parameters\n",
    "def calc(a,b):\n",
    "    print(\"Hello I'm calc..\")\n",
    "    c = a+b\n",
    "    return c\n",
    "    \n",
    "#function calling..\n",
    "result = calc(23,2)\n",
    "print(result)\n",
    "# when we call the function and  brackets have passing value is considered as the arguments"
   ]
  },
  {
   "cell_type": "code",
   "execution_count": 11,
   "id": "a3bb338f-4d62-4b2b-b8e4-8511ae3b110e",
   "metadata": {
    "tags": []
   },
   "outputs": [
    {
     "name": "stdin",
     "output_type": "stream",
     "text": [
      "Enter the number for checking value.. 22\n"
     ]
    },
    {
     "name": "stdout",
     "output_type": "stream",
     "text": [
      "Number is even..\n"
     ]
    }
   ],
   "source": [
    "def check_val(n):\n",
    "    if n%2 == 0:\n",
    "        return True\n",
    "    else:\n",
    "        return False\n",
    "\n",
    "n = int(input(\"Enter the number for checking value..\"))\n",
    "if check_val(n):\n",
    "    print(\"Number is even..\")\n",
    "else:\n",
    "    print(\"Number is odd..\")"
   ]
  },
  {
   "cell_type": "code",
   "execution_count": 13,
   "id": "a8f65ae3-a49a-41c6-9123-df9594172136",
   "metadata": {
    "tags": []
   },
   "outputs": [
    {
     "name": "stdin",
     "output_type": "stream",
     "text": [
      "Enter the value for checking ... 369\n"
     ]
    },
    {
     "name": "stdout",
     "output_type": "stream",
     "text": [
      "Number is not a palindrome..\n"
     ]
    }
   ],
   "source": [
    "def palindrome_check(n):\n",
    "    org = n \n",
    "    rev = 0 \n",
    "    while n > 0:\n",
    "        rev= rev *10 + n%10\n",
    "        n //= 10\n",
    "    return rev == org\n",
    "    \n",
    "n = int(input(\"Enter the value for checking ...\"))\n",
    "if palindrome_check(n):\n",
    "    print(\"Number is palindrome..\")\n",
    "else:\n",
    "    print(\"Number is not a palindrome..\")"
   ]
  },
  {
   "cell_type": "code",
   "execution_count": 14,
   "id": "4d40560b-4bdd-4c3f-ba15-553dc02c6316",
   "metadata": {
    "tags": []
   },
   "outputs": [
    {
     "name": "stdout",
     "output_type": "stream",
     "text": [
      "121\n"
     ]
    }
   ],
   "source": [
    "def sum_li(li):\n",
    "    result = 0\n",
    "    i = 0\n",
    "    while len(li) > i:\n",
    "        result += li[i]\n",
    "        i += 1\n",
    "    return result\n",
    "\n",
    "\n",
    "li = [1,23,45,6,46]\n",
    "print(sum_li(li))"
   ]
  },
  {
   "cell_type": "code",
   "execution_count": null,
   "id": "f2df6b1f-dcda-4861-99c4-4f7947abf5c5",
   "metadata": {
    "tags": []
   },
   "outputs": [],
   "source": []
  },
  {
   "cell_type": "code",
   "execution_count": null,
   "id": "73c471b4-48b4-4a49-815b-deffdc02a7e2",
   "metadata": {},
   "outputs": [],
   "source": []
  }
 ],
 "metadata": {
  "kernelspec": {
   "display_name": "Python 3 (ipykernel)",
   "language": "python",
   "name": "python3"
  },
  "language_info": {
   "codemirror_mode": {
    "name": "ipython",
    "version": 3
   },
   "file_extension": ".py",
   "mimetype": "text/x-python",
   "name": "python",
   "nbconvert_exporter": "python",
   "pygments_lexer": "ipython3",
   "version": "3.11.5"
  }
 },
 "nbformat": 4,
 "nbformat_minor": 5
}

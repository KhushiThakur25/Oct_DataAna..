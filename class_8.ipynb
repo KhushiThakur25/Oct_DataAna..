{
 "cells": [
  {
   "cell_type": "code",
   "execution_count": 1,
   "id": "ae2cbbf1-5937-4a0f-826e-9455bf46a8c0",
   "metadata": {
    "tags": []
   },
   "outputs": [],
   "source": [
    "li = list()"
   ]
  },
  {
   "cell_type": "code",
   "execution_count": 2,
   "id": "4aaf1ce9-3777-418e-9206-e11907b2562d",
   "metadata": {
    "tags": []
   },
   "outputs": [
    {
     "data": {
      "text/plain": [
       "list"
      ]
     },
     "execution_count": 2,
     "metadata": {},
     "output_type": "execute_result"
    }
   ],
   "source": [
    "type(li)"
   ]
  },
  {
   "cell_type": "code",
   "execution_count": 3,
   "id": "793829cf-4714-4bf2-95ee-89e7bf9538ab",
   "metadata": {
    "tags": []
   },
   "outputs": [
    {
     "data": {
      "text/plain": [
       "[]"
      ]
     },
     "execution_count": 3,
     "metadata": {},
     "output_type": "execute_result"
    }
   ],
   "source": [
    "li"
   ]
  },
  {
   "cell_type": "code",
   "execution_count": 4,
   "id": "72976b33-816f-4a06-bc10-b8ca1825c907",
   "metadata": {
    "tags": []
   },
   "outputs": [],
   "source": [
    "li.append(23)"
   ]
  },
  {
   "cell_type": "code",
   "execution_count": 5,
   "id": "58cb9696-65b2-4bb4-952d-1dfa147697a4",
   "metadata": {
    "tags": []
   },
   "outputs": [
    {
     "data": {
      "text/plain": [
       "[23]"
      ]
     },
     "execution_count": 5,
     "metadata": {},
     "output_type": "execute_result"
    }
   ],
   "source": [
    "li"
   ]
  },
  {
   "cell_type": "code",
   "execution_count": 6,
   "id": "c562d8e3-dbd5-4963-83e0-a465e0bbd7d7",
   "metadata": {
    "tags": []
   },
   "outputs": [],
   "source": [
    "li.append(21)"
   ]
  },
  {
   "cell_type": "code",
   "execution_count": 7,
   "id": "dfbed2e2-c761-4aa3-b029-70e3490e70fa",
   "metadata": {
    "tags": []
   },
   "outputs": [
    {
     "data": {
      "text/plain": [
       "[23, 21]"
      ]
     },
     "execution_count": 7,
     "metadata": {},
     "output_type": "execute_result"
    }
   ],
   "source": [
    "li"
   ]
  },
  {
   "cell_type": "code",
   "execution_count": 8,
   "id": "ac90dca0-fed1-47fb-9519-e0130a1014bc",
   "metadata": {
    "tags": []
   },
   "outputs": [
    {
     "ename": "TypeError",
     "evalue": "list.append() takes exactly one argument (4 given)",
     "output_type": "error",
     "traceback": [
      "\u001b[1;31m---------------------------------------------------------------------------\u001b[0m",
      "\u001b[1;31mTypeError\u001b[0m                                 Traceback (most recent call last)",
      "Cell \u001b[1;32mIn[8], line 1\u001b[0m\n\u001b[1;32m----> 1\u001b[0m li\u001b[38;5;241m.\u001b[39mappend(\u001b[38;5;241m52\u001b[39m,\u001b[38;5;241m63\u001b[39m,\u001b[38;5;241m41\u001b[39m,\u001b[38;5;241m12\u001b[39m)\n",
      "\u001b[1;31mTypeError\u001b[0m: list.append() takes exactly one argument (4 given)"
     ]
    }
   ],
   "source": [
    "li.append(52,63,41,12)"
   ]
  },
  {
   "cell_type": "code",
   "execution_count": 9,
   "id": "e5ed84ca-bed0-4532-bee2-66bf7f90ef7d",
   "metadata": {
    "tags": []
   },
   "outputs": [],
   "source": [
    "li.append([52,63,41,12])"
   ]
  },
  {
   "cell_type": "code",
   "execution_count": 10,
   "id": "1d009b70-c91d-4832-b875-7f39de05a1ff",
   "metadata": {
    "tags": []
   },
   "outputs": [
    {
     "data": {
      "text/plain": [
       "[23, 21, [52, 63, 41, 12]]"
      ]
     },
     "execution_count": 10,
     "metadata": {},
     "output_type": "execute_result"
    }
   ],
   "source": [
    "li"
   ]
  },
  {
   "cell_type": "code",
   "execution_count": 11,
   "id": "526307c7-6448-4348-86c6-7f8855782111",
   "metadata": {
    "tags": []
   },
   "outputs": [],
   "source": [
    "li.extend([5,6,4,9,6])"
   ]
  },
  {
   "cell_type": "code",
   "execution_count": 12,
   "id": "dbbb720d-2961-4c21-b568-e2bf493f3566",
   "metadata": {
    "tags": []
   },
   "outputs": [
    {
     "data": {
      "text/plain": [
       "[23, 21, [52, 63, 41, 12], 5, 6, 4, 9, 6]"
      ]
     },
     "execution_count": 12,
     "metadata": {},
     "output_type": "execute_result"
    }
   ],
   "source": [
    "li"
   ]
  },
  {
   "cell_type": "code",
   "execution_count": 13,
   "id": "59c8fcc7-ffb2-4d34-bec0-fccb2fc46ef7",
   "metadata": {
    "tags": []
   },
   "outputs": [
    {
     "data": {
      "text/plain": [
       "[52, 63, 41, 12]"
      ]
     },
     "execution_count": 13,
     "metadata": {},
     "output_type": "execute_result"
    }
   ],
   "source": [
    "li[2]"
   ]
  },
  {
   "cell_type": "code",
   "execution_count": 20,
   "id": "97f051b5-ef32-4d42-bf27-e6472838eb1a",
   "metadata": {
    "tags": []
   },
   "outputs": [],
   "source": [
    "li[2] = 100"
   ]
  },
  {
   "cell_type": "code",
   "execution_count": 21,
   "id": "695713ec-625d-4d97-9b45-b5583944b0f0",
   "metadata": {
    "tags": []
   },
   "outputs": [
    {
     "data": {
      "text/plain": [
       "9"
      ]
     },
     "execution_count": 21,
     "metadata": {},
     "output_type": "execute_result"
    }
   ],
   "source": [
    "len(li)"
   ]
  },
  {
   "cell_type": "code",
   "execution_count": 22,
   "id": "89cdb860-cbdc-4cb1-9a93-a5d3b572ca20",
   "metadata": {
    "tags": []
   },
   "outputs": [],
   "source": [
    "li.insert(3,56)\n"
   ]
  },
  {
   "cell_type": "code",
   "execution_count": 23,
   "id": "402f82fa-1a23-4eda-8cbe-f06dab2a40bb",
   "metadata": {
    "tags": []
   },
   "outputs": [
    {
     "data": {
      "text/plain": [
       "[23, 21, 100, 56, 56, 5, 6, 4, 9, 6]"
      ]
     },
     "execution_count": 23,
     "metadata": {},
     "output_type": "execute_result"
    }
   ],
   "source": [
    "li"
   ]
  },
  {
   "cell_type": "code",
   "execution_count": 24,
   "id": "98adc9db-7654-40a1-b15e-c75300826868",
   "metadata": {
    "tags": []
   },
   "outputs": [
    {
     "data": {
      "text/plain": [
       "10"
      ]
     },
     "execution_count": 24,
     "metadata": {},
     "output_type": "execute_result"
    }
   ],
   "source": [
    "len(li)"
   ]
  },
  {
   "cell_type": "code",
   "execution_count": 25,
   "id": "0f6030ab-84ff-4dc0-91f1-f4a2acdb0201",
   "metadata": {
    "tags": []
   },
   "outputs": [
    {
     "data": {
      "text/plain": [
       "[21, 100, 56]"
      ]
     },
     "execution_count": 25,
     "metadata": {},
     "output_type": "execute_result"
    }
   ],
   "source": [
    "li[1:4]"
   ]
  },
  {
   "cell_type": "code",
   "execution_count": 26,
   "id": "b4fd3185-8c45-477c-8787-ede306451d30",
   "metadata": {
    "tags": []
   },
   "outputs": [
    {
     "data": {
      "text/plain": [
       "[6, 9, 4, 6, 5, 56, 56, 100, 21, 23]"
      ]
     },
     "execution_count": 26,
     "metadata": {},
     "output_type": "execute_result"
    }
   ],
   "source": [
    "li[::-1]"
   ]
  },
  {
   "cell_type": "code",
   "execution_count": 27,
   "id": "0b4fb4a4-fb22-49b9-adb7-f1961a3b4e8f",
   "metadata": {
    "tags": []
   },
   "outputs": [
    {
     "data": {
      "text/plain": [
       "286"
      ]
     },
     "execution_count": 27,
     "metadata": {},
     "output_type": "execute_result"
    }
   ],
   "source": [
    "sum(li)"
   ]
  },
  {
   "cell_type": "code",
   "execution_count": 28,
   "id": "800a169d-b589-412a-8ab8-2601cf6815ae",
   "metadata": {
    "tags": []
   },
   "outputs": [
    {
     "data": {
      "text/plain": [
       "100"
      ]
     },
     "execution_count": 28,
     "metadata": {},
     "output_type": "execute_result"
    }
   ],
   "source": [
    "max(li)"
   ]
  },
  {
   "cell_type": "code",
   "execution_count": 29,
   "id": "2a233537-b048-464d-a3a8-da17f549e0e7",
   "metadata": {
    "tags": []
   },
   "outputs": [
    {
     "data": {
      "text/plain": [
       "4"
      ]
     },
     "execution_count": 29,
     "metadata": {},
     "output_type": "execute_result"
    }
   ],
   "source": [
    "min(li)"
   ]
  },
  {
   "cell_type": "code",
   "execution_count": 30,
   "id": "cd7f9068-45a7-41d8-b604-20f371c8bbcd",
   "metadata": {
    "tags": []
   },
   "outputs": [
    {
     "data": {
      "text/plain": [
       "2"
      ]
     },
     "execution_count": 30,
     "metadata": {},
     "output_type": "execute_result"
    }
   ],
   "source": [
    "li.count(56)"
   ]
  },
  {
   "cell_type": "code",
   "execution_count": 31,
   "id": "4a95ca4c-5711-41f7-87d2-35c9cd999833",
   "metadata": {
    "tags": []
   },
   "outputs": [
    {
     "data": {
      "text/plain": [
       "5"
      ]
     },
     "execution_count": 31,
     "metadata": {},
     "output_type": "execute_result"
    }
   ],
   "source": [
    "li.index(5)"
   ]
  },
  {
   "cell_type": "code",
   "execution_count": 33,
   "id": "2d192c74-7c17-4c6e-93e4-3245343bafab",
   "metadata": {
    "tags": []
   },
   "outputs": [],
   "source": [
    "temp = li"
   ]
  },
  {
   "cell_type": "code",
   "execution_count": 34,
   "id": "d6086628-b121-420d-955f-cbbdc0f0a239",
   "metadata": {
    "tags": []
   },
   "outputs": [
    {
     "data": {
      "text/plain": [
       "[23, 21, 100, 56, 56, 5, 6, 4, 9, 6]"
      ]
     },
     "execution_count": 34,
     "metadata": {},
     "output_type": "execute_result"
    }
   ],
   "source": [
    "temp"
   ]
  },
  {
   "cell_type": "code",
   "execution_count": 35,
   "id": "dd4859b8-c269-45d5-8311-0bfb94aa266e",
   "metadata": {
    "tags": []
   },
   "outputs": [],
   "source": [
    "temp[3] = 99"
   ]
  },
  {
   "cell_type": "code",
   "execution_count": 36,
   "id": "a5afd8c7-0542-4492-a554-d7d8274f0324",
   "metadata": {
    "tags": []
   },
   "outputs": [
    {
     "data": {
      "text/plain": [
       "[23, 21, 100, 99, 56, 5, 6, 4, 9, 6]"
      ]
     },
     "execution_count": 36,
     "metadata": {},
     "output_type": "execute_result"
    }
   ],
   "source": [
    "temp\n"
   ]
  },
  {
   "cell_type": "code",
   "execution_count": 37,
   "id": "56dee6f3-e06b-4073-be30-ece9eea658cd",
   "metadata": {
    "tags": []
   },
   "outputs": [
    {
     "data": {
      "text/plain": [
       "[23, 21, 100, 99, 56, 5, 6, 4, 9, 6]"
      ]
     },
     "execution_count": 37,
     "metadata": {},
     "output_type": "execute_result"
    }
   ],
   "source": [
    "li"
   ]
  },
  {
   "cell_type": "code",
   "execution_count": 38,
   "id": "de034a22-2927-49b8-a69f-2399b808a4ef",
   "metadata": {
    "tags": []
   },
   "outputs": [],
   "source": [
    "temp  = li.copy()"
   ]
  },
  {
   "cell_type": "code",
   "execution_count": 39,
   "id": "81fe4a41-dfe8-402d-8fff-cea8f4201147",
   "metadata": {
    "tags": []
   },
   "outputs": [
    {
     "data": {
      "text/plain": [
       "False"
      ]
     },
     "execution_count": 39,
     "metadata": {},
     "output_type": "execute_result"
    }
   ],
   "source": [
    "temp is li"
   ]
  },
  {
   "cell_type": "code",
   "execution_count": 46,
   "id": "bd14af47-a15c-47ad-a434-d98181c362e3",
   "metadata": {
    "tags": []
   },
   "outputs": [
    {
     "data": {
      "text/plain": [
       "[529, 441, 10000, 9801, 3136, 25, 36, 16, 81, 36]"
      ]
     },
     "execution_count": 46,
     "metadata": {},
     "output_type": "execute_result"
    }
   ],
   "source": [
    "tem = []\n",
    "for i in li:\n",
    "    tem.append(i**2)\n",
    "tem"
   ]
  },
  {
   "cell_type": "code",
   "execution_count": 47,
   "id": "c2167f63-48d7-416b-ae27-704326e65f48",
   "metadata": {
    "tags": []
   },
   "outputs": [],
   "source": [
    "for i in range(len(li)):\n",
    "    li[i] = li[i]**2"
   ]
  },
  {
   "cell_type": "code",
   "execution_count": 48,
   "id": "d74e98c4-8a9d-4076-ac89-af01d479d9d8",
   "metadata": {
    "tags": []
   },
   "outputs": [
    {
     "data": {
      "text/plain": [
       "[529, 441, 10000, 9801, 3136, 25, 36, 16, 81, 36]"
      ]
     },
     "execution_count": 48,
     "metadata": {},
     "output_type": "execute_result"
    }
   ],
   "source": [
    "li"
   ]
  },
  {
   "cell_type": "code",
   "execution_count": 49,
   "id": "c8964c17-9bea-4fdc-a169-57a5ebac5e68",
   "metadata": {
    "tags": []
   },
   "outputs": [
    {
     "name": "stdout",
     "output_type": "stream",
     "text": [
      "Number is in list..\n"
     ]
    }
   ],
   "source": [
    "if 25 in li:\n",
    "    print(\"Number is in list..\")"
   ]
  },
  {
   "cell_type": "code",
   "execution_count": 50,
   "id": "1d79b7e8-51f3-41ca-a0c2-2573608ca9c7",
   "metadata": {
    "tags": []
   },
   "outputs": [
    {
     "data": {
      "text/plain": [
       "[529, 441, 10000, 9801, 3136, 25, 36, 16, 81, 36]"
      ]
     },
     "execution_count": 50,
     "metadata": {},
     "output_type": "execute_result"
    }
   ],
   "source": [
    "li"
   ]
  },
  {
   "cell_type": "code",
   "execution_count": 51,
   "id": "501bd8e0-cea8-401f-8c96-a2c327e6e786",
   "metadata": {
    "tags": []
   },
   "outputs": [
    {
     "data": {
      "text/plain": [
       "36"
      ]
     },
     "execution_count": 51,
     "metadata": {},
     "output_type": "execute_result"
    }
   ],
   "source": [
    "li.pop()"
   ]
  },
  {
   "cell_type": "code",
   "execution_count": 52,
   "id": "43e45984-13eb-4f84-b2b2-ee650edc91fe",
   "metadata": {
    "tags": []
   },
   "outputs": [
    {
     "data": {
      "text/plain": [
       "[529, 441, 10000, 9801, 3136, 25, 36, 16, 81]"
      ]
     },
     "execution_count": 52,
     "metadata": {},
     "output_type": "execute_result"
    }
   ],
   "source": [
    "li"
   ]
  },
  {
   "cell_type": "code",
   "execution_count": 53,
   "id": "28d82f3b-c462-406d-abaa-39a35f958b42",
   "metadata": {
    "tags": []
   },
   "outputs": [],
   "source": [
    "li.clear()"
   ]
  },
  {
   "cell_type": "code",
   "execution_count": 54,
   "id": "a23c92be-dde8-43ca-ba61-f4b32a72beaf",
   "metadata": {
    "tags": []
   },
   "outputs": [
    {
     "data": {
      "text/plain": [
       "[]"
      ]
     },
     "execution_count": 54,
     "metadata": {},
     "output_type": "execute_result"
    }
   ],
   "source": [
    "li"
   ]
  },
  {
   "cell_type": "code",
   "execution_count": 55,
   "id": "456629ee-d70a-455c-92c2-1bf15358d78a",
   "metadata": {
    "tags": []
   },
   "outputs": [
    {
     "data": {
      "text/plain": [
       "[529, 441, 10000, 9801, 3136, 25, 36, 16, 81, 36]"
      ]
     },
     "execution_count": 55,
     "metadata": {},
     "output_type": "execute_result"
    }
   ],
   "source": [
    "tem"
   ]
  },
  {
   "cell_type": "code",
   "execution_count": 56,
   "id": "c6ae7dce-373f-448b-971e-1cc25a4e55ee",
   "metadata": {
    "tags": []
   },
   "outputs": [
    {
     "data": {
      "text/plain": [
       "441"
      ]
     },
     "execution_count": 56,
     "metadata": {},
     "output_type": "execute_result"
    }
   ],
   "source": [
    "tem[1]"
   ]
  },
  {
   "cell_type": "code",
   "execution_count": 57,
   "id": "cbaaa6b4-a539-4474-a7bc-a00b5316faf5",
   "metadata": {
    "tags": []
   },
   "outputs": [],
   "source": [
    "del tem[1]"
   ]
  },
  {
   "cell_type": "code",
   "execution_count": 58,
   "id": "b1289938-4547-4897-a0c3-b69b3de60b4f",
   "metadata": {
    "tags": []
   },
   "outputs": [
    {
     "data": {
      "text/plain": [
       "[529, 10000, 9801, 3136, 25, 36, 16, 81, 36]"
      ]
     },
     "execution_count": 58,
     "metadata": {},
     "output_type": "execute_result"
    }
   ],
   "source": [
    "tem"
   ]
  },
  {
   "cell_type": "code",
   "execution_count": 59,
   "id": "40d3b5c3-5525-4fec-9268-3a9d9050f4a7",
   "metadata": {
    "tags": []
   },
   "outputs": [],
   "source": [
    "tem.reverse()"
   ]
  },
  {
   "cell_type": "code",
   "execution_count": 60,
   "id": "10485c6c-9e97-4a19-801b-876ea30cb712",
   "metadata": {
    "tags": []
   },
   "outputs": [
    {
     "data": {
      "text/plain": [
       "[36, 81, 16, 36, 25, 3136, 9801, 10000, 529]"
      ]
     },
     "execution_count": 60,
     "metadata": {},
     "output_type": "execute_result"
    }
   ],
   "source": [
    "tem"
   ]
  },
  {
   "cell_type": "code",
   "execution_count": 61,
   "id": "3bfadf3b-ff77-4cd1-a7ca-33853e41c991",
   "metadata": {
    "tags": []
   },
   "outputs": [],
   "source": [
    "tem.sort()"
   ]
  },
  {
   "cell_type": "code",
   "execution_count": 62,
   "id": "79728d00-869d-4053-819e-d16183f6cece",
   "metadata": {
    "tags": []
   },
   "outputs": [
    {
     "data": {
      "text/plain": [
       "[16, 25, 36, 36, 81, 529, 3136, 9801, 10000]"
      ]
     },
     "execution_count": 62,
     "metadata": {},
     "output_type": "execute_result"
    }
   ],
   "source": [
    "tem"
   ]
  },
  {
   "cell_type": "code",
   "execution_count": 64,
   "id": "71ac1eeb-ce23-4910-b3f2-6a664b5c1c6d",
   "metadata": {
    "tags": []
   },
   "outputs": [],
   "source": [
    "tem.sort(reverse = True)"
   ]
  },
  {
   "cell_type": "code",
   "execution_count": 65,
   "id": "43403d02-23c8-4db3-94c0-9ac91f708df3",
   "metadata": {
    "tags": []
   },
   "outputs": [
    {
     "data": {
      "text/plain": [
       "[10000, 9801, 3136, 529, 81, 36, 36, 25, 16]"
      ]
     },
     "execution_count": 65,
     "metadata": {},
     "output_type": "execute_result"
    }
   ],
   "source": [
    "tem"
   ]
  },
  {
   "cell_type": "code",
   "execution_count": 66,
   "id": "e1075a26-fa4e-41b4-bbbd-99f8ffd83865",
   "metadata": {
    "tags": []
   },
   "outputs": [],
   "source": [
    "arr = [21,54,12,56,45,13]"
   ]
  },
  {
   "cell_type": "code",
   "execution_count": 68,
   "id": "756e11d7-3fb5-4ea4-940b-e1534ad5ca81",
   "metadata": {
    "tags": []
   },
   "outputs": [
    {
     "name": "stdout",
     "output_type": "stream",
     "text": [
      "21\n",
      "54\n",
      "54\n",
      "56\n",
      "56\n",
      "56\n"
     ]
    }
   ],
   "source": [
    "maxs = 0\n",
    "for i in arr:\n",
    "    if i > maxs:\n",
    "        maxs = i\n",
    "    print(maxs)"
   ]
  },
  {
   "cell_type": "code",
   "execution_count": null,
   "id": "86a2aa8c-6dc7-4ea8-a522-c7f3ff439025",
   "metadata": {},
   "outputs": [],
   "source": []
  }
 ],
 "metadata": {
  "kernelspec": {
   "display_name": "Python 3 (ipykernel)",
   "language": "python",
   "name": "python3"
  },
  "language_info": {
   "codemirror_mode": {
    "name": "ipython",
    "version": 3
   },
   "file_extension": ".py",
   "mimetype": "text/x-python",
   "name": "python",
   "nbconvert_exporter": "python",
   "pygments_lexer": "ipython3",
   "version": "3.11.5"
  }
 },
 "nbformat": 4,
 "nbformat_minor": 5
}

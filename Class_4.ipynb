{
 "cells": [
  {
   "cell_type": "code",
   "execution_count": 8,
   "id": "ad7d4803-bc1e-4f7a-a25e-fcae87cfb662",
   "metadata": {
    "tags": []
   },
   "outputs": [
    {
     "name": "stdin",
     "output_type": "stream",
     "text": [
      "Enter the value .. 22\n"
     ]
    },
    {
     "name": "stdout",
     "output_type": "stream",
     "text": [
      "Number is not a prime..\n"
     ]
    }
   ],
   "source": [
    "#control flow statements - break , continue, pass\n",
    "prime = True\n",
    "\n",
    "n = int(input(\"Enter the value ..\"))\n",
    "for i in range(2,n//2):\n",
    "    if n%i == 0:\n",
    "        print(\"Number is not a prime..\")\n",
    "        prime = False\n",
    "        break;\n",
    "if prime:\n",
    "    print(\"Number is prime..\")"
   ]
  },
  {
   "cell_type": "code",
   "execution_count": 10,
   "id": "cea58eaa-b089-469b-9ce1-21652a33ea41",
   "metadata": {
    "tags": []
   },
   "outputs": [
    {
     "name": "stdin",
     "output_type": "stream",
     "text": [
      "Enter the value .. 11\n"
     ]
    },
    {
     "name": "stdout",
     "output_type": "stream",
     "text": [
      "Number is prime..\n"
     ]
    }
   ],
   "source": [
    "#control flow statements - break , continue, pass\n",
    "n = int(input(\"Enter the value ..\"))\n",
    "for i in range(2,n//2):\n",
    "    if n%i == 0:\n",
    "        print(\"Number is not a prime..\")\n",
    "        break;\n",
    "else:\n",
    "    print(\"Number is prime..\")"
   ]
  },
  {
   "cell_type": "code",
   "execution_count": 12,
   "id": "e5a354d4-3dcb-4ed9-8178-94de5adc8bef",
   "metadata": {
    "tags": []
   },
   "outputs": [
    {
     "name": "stdin",
     "output_type": "stream",
     "text": [
      "Enter the value.. 6525486\n"
     ]
    },
    {
     "name": "stdout",
     "output_type": "stream",
     "text": [
      "Number of counts of n:  7\n"
     ]
    }
   ],
   "source": [
    "#This code is for counting the digits of an integer..\n",
    "# while\n",
    "n = int(input(\"Enter the value..\"))\n",
    "count = 0\n",
    "while n > 0:\n",
    "    count += 1\n",
    "    n //= 10\n",
    "print(\"Number of counts of n: \",count)"
   ]
  },
  {
   "cell_type": "code",
   "execution_count": 14,
   "id": "f6d7c6f9-4d8d-4e99-8afb-84b341558923",
   "metadata": {
    "tags": []
   },
   "outputs": [
    {
     "name": "stdin",
     "output_type": "stream",
     "text": [
      "Enter the value.. 46135\n"
     ]
    },
    {
     "name": "stdout",
     "output_type": "stream",
     "text": [
      "Reverse of n is : 53164\n"
     ]
    }
   ],
   "source": [
    "#This code is for reversing the integer value..\n",
    "n = int(input(\"Enter the value..\"))\n",
    "rev = 0\n",
    "while n > 0:\n",
    "    rem = n%10\n",
    "    rev = rev*10 + rem\n",
    "    n //= 10\n",
    "print(\"Reverse of n is :\",rev)"
   ]
  },
  {
   "cell_type": "code",
   "execution_count": 17,
   "id": "1f348795-d700-4624-bbcc-390f7b0c4f87",
   "metadata": {
    "tags": []
   },
   "outputs": [
    {
     "name": "stdout",
     "output_type": "stream",
     "text": [
      "* * * * * \n",
      "* * * * * \n",
      "* * * * * \n",
      "* * * * * \n",
      "* * * * * \n"
     ]
    }
   ],
   "source": [
    "# nested loops\n",
    "\n",
    "for j in range(5):\n",
    "    for i in range(5):\n",
    "        print(\"*\",end = \" \")\n",
    "    print()"
   ]
  },
  {
   "cell_type": "code",
   "execution_count": 19,
   "id": "d2ffca54-0637-468d-8261-264369e894a8",
   "metadata": {
    "tags": []
   },
   "outputs": [
    {
     "name": "stdout",
     "output_type": "stream",
     "text": [
      "(0 , 0)   (0 , 1)   (0 , 2)   (0 , 3)   (0 , 4)   \n",
      "(1 , 0)   (1 , 1)   (1 , 2)   (1 , 3)   (1 , 4)   \n",
      "(2 , 0)   (2 , 1)   (2 , 2)   (2 , 3)   (2 , 4)   \n",
      "(3 , 0)   (3 , 1)   (3 , 2)   (3 , 3)   (3 , 4)   \n",
      "(4 , 0)   (4 , 1)   (4 , 2)   (4 , 3)   (4 , 4)   \n"
     ]
    }
   ],
   "source": [
    "#outer loop always used for changing the row only\n",
    "#inner loop always used for printing the values or data\n",
    "for i in range(5):\n",
    "    for j in range(5):\n",
    "        print(f\"({i} , {j})  \",end = \" \")\n",
    "    print()"
   ]
  },
  {
   "cell_type": "code",
   "execution_count": 21,
   "id": "954e704d-5420-4338-946a-830e042dba86",
   "metadata": {
    "tags": []
   },
   "outputs": [
    {
     "name": "stdout",
     "output_type": "stream",
     "text": [
      "1 2 3 4 5 \n",
      "1 2 3 4 5 \n",
      "1 2 3 4 5 \n",
      "1 2 3 4 5 \n",
      "1 2 3 4 5 \n"
     ]
    }
   ],
   "source": [
    "for i in range(5):\n",
    "    for j in range(1,6):\n",
    "        print(j,end = \" \")\n",
    "    print()"
   ]
  },
  {
   "cell_type": "code",
   "execution_count": 22,
   "id": "dfdbcf24-943a-4c3d-84d3-0e5412ab7634",
   "metadata": {
    "tags": []
   },
   "outputs": [
    {
     "name": "stdout",
     "output_type": "stream",
     "text": [
      "5 4 3 2 1 \n",
      "5 4 3 2 1 \n",
      "5 4 3 2 1 \n",
      "5 4 3 2 1 \n",
      "5 4 3 2 1 \n"
     ]
    }
   ],
   "source": [
    "for i in range(5):\n",
    "    for j in range(5,0,-1):\n",
    "        print(j,end = \" \")\n",
    "    print()"
   ]
  },
  {
   "cell_type": "code",
   "execution_count": 23,
   "id": "b04656c4-be25-4e37-9ba2-a0ae835026c9",
   "metadata": {
    "tags": []
   },
   "outputs": [
    {
     "name": "stdout",
     "output_type": "stream",
     "text": [
      "5 4 3 2 1 \n",
      "5 4 3 2 1 \n",
      "5 4 3 2 1 \n",
      "5 4 3 2 1 \n",
      "5 4 3 2 1 \n"
     ]
    }
   ],
   "source": [
    "for i in range(5):\n",
    "    n = 5\n",
    "    for j in range(5):\n",
    "        print(n,end = \" \")\n",
    "        n -=1\n",
    "    print()"
   ]
  },
  {
   "cell_type": "code",
   "execution_count": 27,
   "id": "ce1d7709-95e4-4d5d-845a-ae3927a1adbd",
   "metadata": {
    "tags": []
   },
   "outputs": [
    {
     "name": "stdout",
     "output_type": "stream",
     "text": [
      "5 4 3 2 1 \n",
      "5 4 3 2 1 \n",
      "5 4 3 2 1 \n",
      "5 4 3 2 1 \n",
      "5 4 3 2 1 \n"
     ]
    }
   ],
   "source": [
    "for i in range(5):\n",
    "    for j in range(5):\n",
    "        print(5 - j,end = \" \")\n",
    "    print()"
   ]
  },
  {
   "cell_type": "code",
   "execution_count": null,
   "id": "fc5495b5-1c01-4c2c-98db-31bd9caa62a6",
   "metadata": {
    "tags": []
   },
   "outputs": [],
   "source": []
  },
  {
   "cell_type": "code",
   "execution_count": null,
   "id": "38755aba-3c7b-4686-af6f-39894135d284",
   "metadata": {
    "tags": []
   },
   "outputs": [],
   "source": []
  },
  {
   "cell_type": "code",
   "execution_count": null,
   "id": "caba7021-378a-469f-9aa2-cabb6801be68",
   "metadata": {},
   "outputs": [],
   "source": []
  }
 ],
 "metadata": {
  "kernelspec": {
   "display_name": "Python 3 (ipykernel)",
   "language": "python",
   "name": "python3"
  },
  "language_info": {
   "codemirror_mode": {
    "name": "ipython",
    "version": 3
   },
   "file_extension": ".py",
   "mimetype": "text/x-python",
   "name": "python",
   "nbconvert_exporter": "python",
   "pygments_lexer": "ipython3",
   "version": "3.11.5"
  }
 },
 "nbformat": 4,
 "nbformat_minor": 5
}

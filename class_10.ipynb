{
 "cells": [
  {
   "cell_type": "code",
   "execution_count": 1,
   "id": "f3beb2c0-ee90-4805-a8bb-9ac642e636bd",
   "metadata": {
    "tags": []
   },
   "outputs": [
    {
     "name": "stdout",
     "output_type": "stream",
     "text": [
      "[[1, 4, 7], [2, 5, 8], [3, 6, 9]]\n"
     ]
    }
   ],
   "source": [
    "li = [[1,2,3],[4,5,6],[7,8,9]]\n",
    "tr = [[0,0,0],[0,0,0],[0,0,0]]\n",
    "for i in range(len(li)):\n",
    "    for j in range(len(li[0])):\n",
    "        tr[i][j] = li[j][i]\n",
    "print(tr)"
   ]
  },
  {
   "cell_type": "code",
   "execution_count": 2,
   "id": "03b8e970-01b8-41b8-9510-c513a56e9e26",
   "metadata": {
    "tags": []
   },
   "outputs": [],
   "source": [
    "li = [[1,2,3],[4,5,6],[7,8,9]]\n",
    "for i in range(len(li)):\n",
    "    for j in range(i+1,len(li[0])):\n",
    "        temp = li[i][j]\n",
    "        li[i][j] = li[j][i]\n",
    "        li[j][i] = temp"
   ]
  },
  {
   "cell_type": "code",
   "execution_count": 5,
   "id": "07b53849-a2e6-4a9f-8df5-1ea50fa01f73",
   "metadata": {
    "tags": []
   },
   "outputs": [
    {
     "data": {
      "text/plain": [
       "[[1, 4, 7], [2, 5, 8], [3, 6, 9]]"
      ]
     },
     "execution_count": 5,
     "metadata": {},
     "output_type": "execute_result"
    }
   ],
   "source": [
    "li"
   ]
  },
  {
   "cell_type": "code",
   "execution_count": 7,
   "id": "329ef056-4c8c-4a01-875f-4da434bdfbbb",
   "metadata": {
    "tags": []
   },
   "outputs": [],
   "source": [
    "li = [1,2,3,4,5,6,7]\n",
    "i = 0\n",
    "j = len(li)-1\n",
    "while i < j:\n",
    "    temp = li[i]\n",
    "    li[i] = li[j]\n",
    "    li[j] = temp\n",
    "    i+=1\n",
    "    j-=1"
   ]
  },
  {
   "cell_type": "code",
   "execution_count": 22,
   "id": "46f0d2fa-4287-4f5f-b39d-a07be4cb6814",
   "metadata": {
    "tags": []
   },
   "outputs": [],
   "source": [
    "for i in range(len(li)):\n",
    "    li[i].reverse()"
   ]
  },
  {
   "cell_type": "code",
   "execution_count": null,
   "id": "104ffd7e-f181-4291-8bbc-94c53fd8a8ea",
   "metadata": {
    "tags": []
   },
   "outputs": [],
   "source": []
  },
  {
   "cell_type": "code",
   "execution_count": null,
   "id": "41016296-2952-450b-9eac-e114991dadc2",
   "metadata": {},
   "outputs": [],
   "source": []
  }
 ],
 "metadata": {
  "kernelspec": {
   "display_name": "Python 3 (ipykernel)",
   "language": "python",
   "name": "python3"
  },
  "language_info": {
   "codemirror_mode": {
    "name": "ipython",
    "version": 3
   },
   "file_extension": ".py",
   "mimetype": "text/x-python",
   "name": "python",
   "nbconvert_exporter": "python",
   "pygments_lexer": "ipython3",
   "version": "3.11.5"
  }
 },
 "nbformat": 4,
 "nbformat_minor": 5
}

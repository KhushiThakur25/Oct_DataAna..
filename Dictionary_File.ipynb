{
 "cells": [
  {
   "cell_type": "code",
   "execution_count": 4,
   "id": "303c1958-d667-4665-adbd-6cd6ed5eb5ad",
   "metadata": {
    "tags": []
   },
   "outputs": [],
   "source": [
    "import sys\n",
    "dic = {}\n",
    "# it contains data in which it has key and value pair.."
   ]
  },
  {
   "cell_type": "code",
   "execution_count": 2,
   "id": "1376b01f-50d0-4a3c-bcd4-8afd17039760",
   "metadata": {
    "tags": []
   },
   "outputs": [
    {
     "data": {
      "text/plain": [
       "dict"
      ]
     },
     "execution_count": 2,
     "metadata": {},
     "output_type": "execute_result"
    }
   ],
   "source": [
    "type(dic)"
   ]
  },
  {
   "cell_type": "code",
   "execution_count": 5,
   "id": "c559a8db-a2df-4b4a-a6e7-82201eed9b65",
   "metadata": {
    "tags": []
   },
   "outputs": [
    {
     "data": {
      "text/plain": [
       "64"
      ]
     },
     "execution_count": 5,
     "metadata": {},
     "output_type": "execute_result"
    }
   ],
   "source": [
    "sys.getsizeof(dic)"
   ]
  },
  {
   "cell_type": "code",
   "execution_count": 6,
   "id": "9738a55c-376c-49e9-8f96-a138e372f0cc",
   "metadata": {
    "tags": []
   },
   "outputs": [],
   "source": [
    "dic = {\"name\":\"Amit\",\"class\":8,\"RollNo\":2}"
   ]
  },
  {
   "cell_type": "code",
   "execution_count": 7,
   "id": "d75c1dd5-0b2c-4d4e-a2e3-0cb7ea4593ef",
   "metadata": {
    "tags": []
   },
   "outputs": [
    {
     "data": {
      "text/plain": [
       "{'name': 'Amit', 'class': 8, 'RollNo': 2}"
      ]
     },
     "execution_count": 7,
     "metadata": {},
     "output_type": "execute_result"
    }
   ],
   "source": [
    "dic"
   ]
  },
  {
   "cell_type": "code",
   "execution_count": 8,
   "id": "96a88827-b146-491b-aa00-f5766b670942",
   "metadata": {
    "tags": []
   },
   "outputs": [
    {
     "data": {
      "text/plain": [
       "dict_keys(['name', 'class', 'RollNo'])"
      ]
     },
     "execution_count": 8,
     "metadata": {},
     "output_type": "execute_result"
    }
   ],
   "source": [
    "dic.keys()"
   ]
  },
  {
   "cell_type": "code",
   "execution_count": 9,
   "id": "ced3994d-fcbe-4da3-bf0b-e9990b85104f",
   "metadata": {
    "tags": []
   },
   "outputs": [
    {
     "data": {
      "text/plain": [
       "dict_values(['Amit', 8, 2])"
      ]
     },
     "execution_count": 9,
     "metadata": {},
     "output_type": "execute_result"
    }
   ],
   "source": [
    "dic.values()"
   ]
  },
  {
   "cell_type": "code",
   "execution_count": 10,
   "id": "ed5aad44-bd4f-4d69-9ffe-56779861c3b8",
   "metadata": {
    "tags": []
   },
   "outputs": [
    {
     "data": {
      "text/plain": [
       "False"
      ]
     },
     "execution_count": 10,
     "metadata": {},
     "output_type": "execute_result"
    }
   ],
   "source": [
    "6 in dic.values()"
   ]
  },
  {
   "cell_type": "code",
   "execution_count": 11,
   "id": "08603edb-83cd-4d84-9005-b3ff13dd093d",
   "metadata": {
    "tags": []
   },
   "outputs": [
    {
     "data": {
      "text/plain": [
       "dict_items([('name', 'Amit'), ('class', 8), ('RollNo', 2)])"
      ]
     },
     "execution_count": 11,
     "metadata": {},
     "output_type": "execute_result"
    }
   ],
   "source": [
    "dic.items()"
   ]
  },
  {
   "cell_type": "code",
   "execution_count": 12,
   "id": "5e8fd317-83aa-4b46-8c2b-6f23d18487af",
   "metadata": {
    "tags": []
   },
   "outputs": [
    {
     "data": {
      "text/plain": [
       "'Amit'"
      ]
     },
     "execution_count": 12,
     "metadata": {},
     "output_type": "execute_result"
    }
   ],
   "source": [
    "dic[\"name\"]"
   ]
  },
  {
   "cell_type": "code",
   "execution_count": 14,
   "id": "396e1005-b6e1-4b04-96e6-8235448c7a39",
   "metadata": {
    "tags": []
   },
   "outputs": [],
   "source": [
    "dic[1] = True"
   ]
  },
  {
   "cell_type": "code",
   "execution_count": 15,
   "id": "a144ee53-b8c5-4c32-8237-199d50b7991c",
   "metadata": {
    "tags": []
   },
   "outputs": [
    {
     "data": {
      "text/plain": [
       "{'name': 'Amit', 'class': 8, 'RollNo': 2, 1: True}"
      ]
     },
     "execution_count": 15,
     "metadata": {},
     "output_type": "execute_result"
    }
   ],
   "source": [
    "dic"
   ]
  },
  {
   "cell_type": "code",
   "execution_count": 17,
   "id": "da75d8aa-6859-4ba2-9449-66079581d994",
   "metadata": {
    "tags": []
   },
   "outputs": [
    {
     "data": {
      "text/plain": [
       "{'n': None, 'a': None, 'm': None, 'e': None}"
      ]
     },
     "execution_count": 17,
     "metadata": {},
     "output_type": "execute_result"
    }
   ],
   "source": [
    "dic.fromkeys('name')"
   ]
  },
  {
   "cell_type": "code",
   "execution_count": 18,
   "id": "5436b109-8248-4b6e-9b05-4fb11389ea58",
   "metadata": {
    "tags": []
   },
   "outputs": [
    {
     "data": {
      "text/plain": [
       "'Amit'"
      ]
     },
     "execution_count": 18,
     "metadata": {},
     "output_type": "execute_result"
    }
   ],
   "source": [
    "dic.get('name')"
   ]
  },
  {
   "cell_type": "code",
   "execution_count": 19,
   "id": "dca287c5-f61b-4e26-b81a-5bc5e03780ef",
   "metadata": {
    "tags": []
   },
   "outputs": [
    {
     "data": {
      "text/plain": [
       "True"
      ]
     },
     "execution_count": 19,
     "metadata": {},
     "output_type": "execute_result"
    }
   ],
   "source": [
    "dic.pop(1)"
   ]
  },
  {
   "cell_type": "code",
   "execution_count": 20,
   "id": "ab47effd-ea55-43b2-926f-ec0f911747b2",
   "metadata": {
    "tags": []
   },
   "outputs": [
    {
     "data": {
      "text/plain": [
       "{'name': 'Amit', 'class': 8, 'RollNo': 2}"
      ]
     },
     "execution_count": 20,
     "metadata": {},
     "output_type": "execute_result"
    }
   ],
   "source": [
    "dic"
   ]
  },
  {
   "cell_type": "code",
   "execution_count": 21,
   "id": "884b74ba-7759-491c-b9d4-d4db34dc12e2",
   "metadata": {
    "tags": []
   },
   "outputs": [
    {
     "data": {
      "text/plain": [
       "('RollNo', 2)"
      ]
     },
     "execution_count": 21,
     "metadata": {},
     "output_type": "execute_result"
    }
   ],
   "source": [
    "dic.popitem()"
   ]
  },
  {
   "cell_type": "code",
   "execution_count": 22,
   "id": "ccf340c0-80d2-4b52-b380-0ae91d73bca3",
   "metadata": {
    "tags": []
   },
   "outputs": [],
   "source": [
    "dic_1 = {'subjects':[\"maths\",'hindi','english']}"
   ]
  },
  {
   "cell_type": "code",
   "execution_count": 23,
   "id": "23504ce7-1ace-4963-a3ed-6c8930a25314",
   "metadata": {
    "tags": []
   },
   "outputs": [],
   "source": [
    "dic.update(dic_1)"
   ]
  },
  {
   "cell_type": "code",
   "execution_count": 24,
   "id": "a8d2ae82-d294-43d7-95b3-7a52c10e940a",
   "metadata": {
    "tags": []
   },
   "outputs": [
    {
     "data": {
      "text/plain": [
       "{'name': 'Amit', 'class': 8, 'subjects': ['maths', 'hindi', 'english']}"
      ]
     },
     "execution_count": 24,
     "metadata": {},
     "output_type": "execute_result"
    }
   ],
   "source": [
    "dic"
   ]
  },
  {
   "cell_type": "code",
   "execution_count": 26,
   "id": "f31ae5d3-8954-4da0-b98a-d51f2748dfd7",
   "metadata": {
    "tags": []
   },
   "outputs": [
    {
     "data": {
      "text/plain": [
       "'hindi'"
      ]
     },
     "execution_count": 26,
     "metadata": {},
     "output_type": "execute_result"
    }
   ],
   "source": [
    "dic[\"subjects\"][1]"
   ]
  },
  {
   "cell_type": "code",
   "execution_count": null,
   "id": "c4311677-4eb9-4a70-a505-cf787ecd212c",
   "metadata": {},
   "outputs": [],
   "source": []
  }
 ],
 "metadata": {
  "kernelspec": {
   "display_name": "Python 3 (ipykernel)",
   "language": "python",
   "name": "python3"
  },
  "language_info": {
   "codemirror_mode": {
    "name": "ipython",
    "version": 3
   },
   "file_extension": ".py",
   "mimetype": "text/x-python",
   "name": "python",
   "nbconvert_exporter": "python",
   "pygments_lexer": "ipython3",
   "version": "3.11.5"
  }
 },
 "nbformat": 4,
 "nbformat_minor": 5
}

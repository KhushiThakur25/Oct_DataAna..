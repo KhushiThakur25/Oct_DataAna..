{
 "cells": [
  {
   "cell_type": "code",
   "execution_count": 1,
   "id": "39b60f97-8711-4ee9-8d5f-1e656e677220",
   "metadata": {
    "tags": []
   },
   "outputs": [],
   "source": [
    "import pandas as pd\n",
    "import numpy as np\n"
   ]
  },
  {
   "cell_type": "code",
   "execution_count": 2,
   "id": "5eb0dd76-3c59-472d-a93a-ad811732a7ae",
   "metadata": {
    "tags": []
   },
   "outputs": [],
   "source": [
    "data = pd.read_csv('amazon_sales_large_corrupted.csv')"
   ]
  },
  {
   "cell_type": "code",
   "execution_count": 3,
   "id": "eb0c107d-3cd2-44e5-be65-5fb96a84caa3",
   "metadata": {
    "tags": []
   },
   "outputs": [
    {
     "data": {
      "text/html": [
       "<div>\n",
       "<style scoped>\n",
       "    .dataframe tbody tr th:only-of-type {\n",
       "        vertical-align: middle;\n",
       "    }\n",
       "\n",
       "    .dataframe tbody tr th {\n",
       "        vertical-align: top;\n",
       "    }\n",
       "\n",
       "    .dataframe thead th {\n",
       "        text-align: right;\n",
       "    }\n",
       "</style>\n",
       "<table border=\"1\" class=\"dataframe\">\n",
       "  <thead>\n",
       "    <tr style=\"text-align: right;\">\n",
       "      <th></th>\n",
       "      <th>Order ID</th>\n",
       "      <th>Product Name</th>\n",
       "      <th>Category</th>\n",
       "      <th>Sub-Category</th>\n",
       "      <th>Sales</th>\n",
       "      <th>Quantity</th>\n",
       "      <th>Discount</th>\n",
       "      <th>Profit</th>\n",
       "    </tr>\n",
       "  </thead>\n",
       "  <tbody>\n",
       "    <tr>\n",
       "      <th>0</th>\n",
       "      <td>US-2017-434667</td>\n",
       "      <td>Tables A</td>\n",
       "      <td>Furniture</td>\n",
       "      <td>Tables</td>\n",
       "      <td>554.70</td>\n",
       "      <td>7</td>\n",
       "      <td>0.1</td>\n",
       "      <td>126.79</td>\n",
       "    </tr>\n",
       "    <tr>\n",
       "      <th>1</th>\n",
       "      <td>CA-2021-365005</td>\n",
       "      <td>Labels C</td>\n",
       "      <td>Office Supplies</td>\n",
       "      <td>Labels</td>\n",
       "      <td>24.36</td>\n",
       "      <td>3</td>\n",
       "      <td>0.4</td>\n",
       "      <td>3.37</td>\n",
       "    </tr>\n",
       "    <tr>\n",
       "      <th>2</th>\n",
       "      <td>CA-2020-401477</td>\n",
       "      <td>Machines A</td>\n",
       "      <td>Technology</td>\n",
       "      <td>Machines</td>\n",
       "      <td>531.72</td>\n",
       "      <td>3</td>\n",
       "      <td>0.4</td>\n",
       "      <td>39.92</td>\n",
       "    </tr>\n",
       "    <tr>\n",
       "      <th>3</th>\n",
       "      <td>IN-2015-398586</td>\n",
       "      <td>Paper C</td>\n",
       "      <td>Office Supplies</td>\n",
       "      <td>Paper</td>\n",
       "      <td>617.55</td>\n",
       "      <td>3</td>\n",
       "      <td>0.0</td>\n",
       "      <td>116.48</td>\n",
       "    </tr>\n",
       "    <tr>\n",
       "      <th>4</th>\n",
       "      <td>IN-2018-565349</td>\n",
       "      <td>Tables D</td>\n",
       "      <td>Furniture</td>\n",
       "      <td>Tables</td>\n",
       "      <td>972.67</td>\n",
       "      <td>7</td>\n",
       "      <td>0.2</td>\n",
       "      <td>194.54</td>\n",
       "    </tr>\n",
       "    <tr>\n",
       "      <th>...</th>\n",
       "      <td>...</td>\n",
       "      <td>...</td>\n",
       "      <td>...</td>\n",
       "      <td>...</td>\n",
       "      <td>...</td>\n",
       "      <td>...</td>\n",
       "      <td>...</td>\n",
       "      <td>...</td>\n",
       "    </tr>\n",
       "    <tr>\n",
       "      <th>495</th>\n",
       "      <td>IN-2017-952207</td>\n",
       "      <td>Phones B</td>\n",
       "      <td>Technology</td>\n",
       "      <td>Phones</td>\n",
       "      <td>NaN</td>\n",
       "      <td>5</td>\n",
       "      <td>0.4</td>\n",
       "      <td>39.72</td>\n",
       "    </tr>\n",
       "    <tr>\n",
       "      <th>496</th>\n",
       "      <td>US-2017-979008</td>\n",
       "      <td>Furnishings D</td>\n",
       "      <td>Furniture</td>\n",
       "      <td>Furnishings</td>\n",
       "      <td>339.38</td>\n",
       "      <td>8</td>\n",
       "      <td>0.2</td>\n",
       "      <td>65.81</td>\n",
       "    </tr>\n",
       "    <tr>\n",
       "      <th>497</th>\n",
       "      <td>IN-2019-980328</td>\n",
       "      <td>Labels D</td>\n",
       "      <td>Office Supplies</td>\n",
       "      <td>Labels</td>\n",
       "      <td>NaN</td>\n",
       "      <td>10</td>\n",
       "      <td>0.3</td>\n",
       "      <td>62.59</td>\n",
       "    </tr>\n",
       "    <tr>\n",
       "      <th>498</th>\n",
       "      <td>US-2017-870155</td>\n",
       "      <td>Storage B</td>\n",
       "      <td>Office Supplies</td>\n",
       "      <td>Storage</td>\n",
       "      <td>840.35</td>\n",
       "      <td>4</td>\n",
       "      <td>0.2</td>\n",
       "      <td>NaN</td>\n",
       "    </tr>\n",
       "    <tr>\n",
       "      <th>499</th>\n",
       "      <td>IN-2018-943633</td>\n",
       "      <td>Machines B</td>\n",
       "      <td>Technology</td>\n",
       "      <td>Machines</td>\n",
       "      <td>203.25</td>\n",
       "      <td>3</td>\n",
       "      <td>0.4</td>\n",
       "      <td>13.56</td>\n",
       "    </tr>\n",
       "  </tbody>\n",
       "</table>\n",
       "<p>500 rows × 8 columns</p>\n",
       "</div>"
      ],
      "text/plain": [
       "           Order ID   Product Name         Category Sub-Category   Sales  \\\n",
       "0    US-2017-434667       Tables A        Furniture       Tables  554.70   \n",
       "1    CA-2021-365005       Labels C  Office Supplies       Labels   24.36   \n",
       "2    CA-2020-401477     Machines A       Technology     Machines  531.72   \n",
       "3    IN-2015-398586        Paper C  Office Supplies        Paper  617.55   \n",
       "4    IN-2018-565349       Tables D        Furniture       Tables  972.67   \n",
       "..              ...            ...              ...          ...     ...   \n",
       "495  IN-2017-952207       Phones B       Technology       Phones     NaN   \n",
       "496  US-2017-979008  Furnishings D        Furniture  Furnishings  339.38   \n",
       "497  IN-2019-980328       Labels D  Office Supplies       Labels     NaN   \n",
       "498  US-2017-870155      Storage B  Office Supplies      Storage  840.35   \n",
       "499  IN-2018-943633     Machines B       Technology     Machines  203.25   \n",
       "\n",
       "     Quantity  Discount  Profit  \n",
       "0           7       0.1  126.79  \n",
       "1           3       0.4    3.37  \n",
       "2           3       0.4   39.92  \n",
       "3           3       0.0  116.48  \n",
       "4           7       0.2  194.54  \n",
       "..        ...       ...     ...  \n",
       "495         5       0.4   39.72  \n",
       "496         8       0.2   65.81  \n",
       "497        10       0.3   62.59  \n",
       "498         4       0.2     NaN  \n",
       "499         3       0.4   13.56  \n",
       "\n",
       "[500 rows x 8 columns]"
      ]
     },
     "execution_count": 3,
     "metadata": {},
     "output_type": "execute_result"
    }
   ],
   "source": [
    "data"
   ]
  },
  {
   "cell_type": "code",
   "execution_count": 4,
   "id": "014e9ceb-18ad-478e-8c93-9e19a0279daf",
   "metadata": {
    "tags": []
   },
   "outputs": [
    {
     "data": {
      "text/plain": [
       "Order ID         0\n",
       "Product Name     0\n",
       "Category        29\n",
       "Sub-Category     0\n",
       "Sales           30\n",
       "Quantity         0\n",
       "Discount         0\n",
       "Profit          30\n",
       "dtype: int64"
      ]
     },
     "execution_count": 4,
     "metadata": {},
     "output_type": "execute_result"
    }
   ],
   "source": [
    "data.isnull().sum()"
   ]
  },
  {
   "cell_type": "code",
   "execution_count": 5,
   "id": "d7a64cbe-ef02-433c-b9bd-6bf72351e1b1",
   "metadata": {
    "tags": []
   },
   "outputs": [
    {
     "name": "stdout",
     "output_type": "stream",
     "text": [
      "<class 'pandas.core.frame.DataFrame'>\n",
      "RangeIndex: 500 entries, 0 to 499\n",
      "Data columns (total 8 columns):\n",
      " #   Column        Non-Null Count  Dtype  \n",
      "---  ------        --------------  -----  \n",
      " 0   Order ID      500 non-null    object \n",
      " 1   Product Name  500 non-null    object \n",
      " 2   Category      471 non-null    object \n",
      " 3   Sub-Category  500 non-null    object \n",
      " 4   Sales         470 non-null    float64\n",
      " 5   Quantity      500 non-null    int64  \n",
      " 6   Discount      500 non-null    float64\n",
      " 7   Profit        470 non-null    float64\n",
      "dtypes: float64(3), int64(1), object(4)\n",
      "memory usage: 31.4+ KB\n"
     ]
    }
   ],
   "source": [
    "data.info()"
   ]
  },
  {
   "cell_type": "code",
   "execution_count": 6,
   "id": "4006fec1-f7ea-4a16-a888-ba1e4eac28a5",
   "metadata": {
    "tags": []
   },
   "outputs": [
    {
     "data": {
      "text/html": [
       "<div>\n",
       "<style scoped>\n",
       "    .dataframe tbody tr th:only-of-type {\n",
       "        vertical-align: middle;\n",
       "    }\n",
       "\n",
       "    .dataframe tbody tr th {\n",
       "        vertical-align: top;\n",
       "    }\n",
       "\n",
       "    .dataframe thead th {\n",
       "        text-align: right;\n",
       "    }\n",
       "</style>\n",
       "<table border=\"1\" class=\"dataframe\">\n",
       "  <thead>\n",
       "    <tr style=\"text-align: right;\">\n",
       "      <th></th>\n",
       "      <th>Sales</th>\n",
       "      <th>Quantity</th>\n",
       "      <th>Discount</th>\n",
       "      <th>Profit</th>\n",
       "    </tr>\n",
       "  </thead>\n",
       "  <tbody>\n",
       "    <tr>\n",
       "      <th>count</th>\n",
       "      <td>470.000000</td>\n",
       "      <td>500.000000</td>\n",
       "      <td>500.000000</td>\n",
       "      <td>470.000000</td>\n",
       "    </tr>\n",
       "    <tr>\n",
       "      <th>mean</th>\n",
       "      <td>515.433745</td>\n",
       "      <td>5.296000</td>\n",
       "      <td>0.203600</td>\n",
       "      <td>71.252085</td>\n",
       "    </tr>\n",
       "    <tr>\n",
       "      <th>std</th>\n",
       "      <td>291.753441</td>\n",
       "      <td>2.897097</td>\n",
       "      <td>0.145014</td>\n",
       "      <td>55.404945</td>\n",
       "    </tr>\n",
       "    <tr>\n",
       "      <th>min</th>\n",
       "      <td>7.830000</td>\n",
       "      <td>1.000000</td>\n",
       "      <td>0.000000</td>\n",
       "      <td>0.500000</td>\n",
       "    </tr>\n",
       "    <tr>\n",
       "      <th>25%</th>\n",
       "      <td>269.805000</td>\n",
       "      <td>3.000000</td>\n",
       "      <td>0.100000</td>\n",
       "      <td>26.697500</td>\n",
       "    </tr>\n",
       "    <tr>\n",
       "      <th>50%</th>\n",
       "      <td>508.115000</td>\n",
       "      <td>5.000000</td>\n",
       "      <td>0.200000</td>\n",
       "      <td>57.230000</td>\n",
       "    </tr>\n",
       "    <tr>\n",
       "      <th>75%</th>\n",
       "      <td>785.932500</td>\n",
       "      <td>8.000000</td>\n",
       "      <td>0.300000</td>\n",
       "      <td>105.490000</td>\n",
       "    </tr>\n",
       "    <tr>\n",
       "      <th>max</th>\n",
       "      <td>992.830000</td>\n",
       "      <td>10.000000</td>\n",
       "      <td>0.400000</td>\n",
       "      <td>258.740000</td>\n",
       "    </tr>\n",
       "  </tbody>\n",
       "</table>\n",
       "</div>"
      ],
      "text/plain": [
       "            Sales    Quantity    Discount      Profit\n",
       "count  470.000000  500.000000  500.000000  470.000000\n",
       "mean   515.433745    5.296000    0.203600   71.252085\n",
       "std    291.753441    2.897097    0.145014   55.404945\n",
       "min      7.830000    1.000000    0.000000    0.500000\n",
       "25%    269.805000    3.000000    0.100000   26.697500\n",
       "50%    508.115000    5.000000    0.200000   57.230000\n",
       "75%    785.932500    8.000000    0.300000  105.490000\n",
       "max    992.830000   10.000000    0.400000  258.740000"
      ]
     },
     "execution_count": 6,
     "metadata": {},
     "output_type": "execute_result"
    }
   ],
   "source": [
    "data.describe()"
   ]
  },
  {
   "cell_type": "code",
   "execution_count": 7,
   "id": "afec8566-66e1-425a-857e-83d18121942d",
   "metadata": {
    "tags": []
   },
   "outputs": [
    {
     "data": {
      "text/html": [
       "<div>\n",
       "<style scoped>\n",
       "    .dataframe tbody tr th:only-of-type {\n",
       "        vertical-align: middle;\n",
       "    }\n",
       "\n",
       "    .dataframe tbody tr th {\n",
       "        vertical-align: top;\n",
       "    }\n",
       "\n",
       "    .dataframe thead th {\n",
       "        text-align: right;\n",
       "    }\n",
       "</style>\n",
       "<table border=\"1\" class=\"dataframe\">\n",
       "  <thead>\n",
       "    <tr style=\"text-align: right;\">\n",
       "      <th></th>\n",
       "      <th>Order ID</th>\n",
       "      <th>Product Name</th>\n",
       "      <th>Category</th>\n",
       "      <th>Sub-Category</th>\n",
       "      <th>Sales</th>\n",
       "      <th>Quantity</th>\n",
       "      <th>Discount</th>\n",
       "      <th>Profit</th>\n",
       "    </tr>\n",
       "  </thead>\n",
       "  <tbody>\n",
       "    <tr>\n",
       "      <th>0</th>\n",
       "      <td>US-2017-434667</td>\n",
       "      <td>Tables A</td>\n",
       "      <td>Furniture</td>\n",
       "      <td>Tables</td>\n",
       "      <td>554.70</td>\n",
       "      <td>7</td>\n",
       "      <td>0.1</td>\n",
       "      <td>126.79</td>\n",
       "    </tr>\n",
       "    <tr>\n",
       "      <th>1</th>\n",
       "      <td>CA-2021-365005</td>\n",
       "      <td>Labels C</td>\n",
       "      <td>Office Supplies</td>\n",
       "      <td>Labels</td>\n",
       "      <td>24.36</td>\n",
       "      <td>3</td>\n",
       "      <td>0.4</td>\n",
       "      <td>3.37</td>\n",
       "    </tr>\n",
       "    <tr>\n",
       "      <th>2</th>\n",
       "      <td>CA-2020-401477</td>\n",
       "      <td>Machines A</td>\n",
       "      <td>Technology</td>\n",
       "      <td>Machines</td>\n",
       "      <td>531.72</td>\n",
       "      <td>3</td>\n",
       "      <td>0.4</td>\n",
       "      <td>39.92</td>\n",
       "    </tr>\n",
       "    <tr>\n",
       "      <th>3</th>\n",
       "      <td>IN-2015-398586</td>\n",
       "      <td>Paper C</td>\n",
       "      <td>Office Supplies</td>\n",
       "      <td>Paper</td>\n",
       "      <td>617.55</td>\n",
       "      <td>3</td>\n",
       "      <td>0.0</td>\n",
       "      <td>116.48</td>\n",
       "    </tr>\n",
       "    <tr>\n",
       "      <th>4</th>\n",
       "      <td>IN-2018-565349</td>\n",
       "      <td>Tables D</td>\n",
       "      <td>Furniture</td>\n",
       "      <td>Tables</td>\n",
       "      <td>972.67</td>\n",
       "      <td>7</td>\n",
       "      <td>0.2</td>\n",
       "      <td>194.54</td>\n",
       "    </tr>\n",
       "    <tr>\n",
       "      <th>...</th>\n",
       "      <td>...</td>\n",
       "      <td>...</td>\n",
       "      <td>...</td>\n",
       "      <td>...</td>\n",
       "      <td>...</td>\n",
       "      <td>...</td>\n",
       "      <td>...</td>\n",
       "      <td>...</td>\n",
       "    </tr>\n",
       "    <tr>\n",
       "      <th>489</th>\n",
       "      <td>IN-2020-120556</td>\n",
       "      <td>Paper A</td>\n",
       "      <td>Office Supplies</td>\n",
       "      <td>Paper</td>\n",
       "      <td>685.40</td>\n",
       "      <td>7</td>\n",
       "      <td>0.3</td>\n",
       "      <td>66.74</td>\n",
       "    </tr>\n",
       "    <tr>\n",
       "      <th>492</th>\n",
       "      <td>CA-2016-939525</td>\n",
       "      <td>Labels A</td>\n",
       "      <td>Office Supplies</td>\n",
       "      <td>Labels</td>\n",
       "      <td>358.07</td>\n",
       "      <td>6</td>\n",
       "      <td>0.3</td>\n",
       "      <td>24.72</td>\n",
       "    </tr>\n",
       "    <tr>\n",
       "      <th>493</th>\n",
       "      <td>US-2016-490347</td>\n",
       "      <td>Storage D</td>\n",
       "      <td>Office Supplies</td>\n",
       "      <td>Storage</td>\n",
       "      <td>728.48</td>\n",
       "      <td>6</td>\n",
       "      <td>0.2</td>\n",
       "      <td>83.23</td>\n",
       "    </tr>\n",
       "    <tr>\n",
       "      <th>496</th>\n",
       "      <td>US-2017-979008</td>\n",
       "      <td>Furnishings D</td>\n",
       "      <td>Furniture</td>\n",
       "      <td>Furnishings</td>\n",
       "      <td>339.38</td>\n",
       "      <td>8</td>\n",
       "      <td>0.2</td>\n",
       "      <td>65.81</td>\n",
       "    </tr>\n",
       "    <tr>\n",
       "      <th>499</th>\n",
       "      <td>IN-2018-943633</td>\n",
       "      <td>Machines B</td>\n",
       "      <td>Technology</td>\n",
       "      <td>Machines</td>\n",
       "      <td>203.25</td>\n",
       "      <td>3</td>\n",
       "      <td>0.4</td>\n",
       "      <td>13.56</td>\n",
       "    </tr>\n",
       "  </tbody>\n",
       "</table>\n",
       "<p>420 rows × 8 columns</p>\n",
       "</div>"
      ],
      "text/plain": [
       "           Order ID   Product Name         Category Sub-Category   Sales  \\\n",
       "0    US-2017-434667       Tables A        Furniture       Tables  554.70   \n",
       "1    CA-2021-365005       Labels C  Office Supplies       Labels   24.36   \n",
       "2    CA-2020-401477     Machines A       Technology     Machines  531.72   \n",
       "3    IN-2015-398586        Paper C  Office Supplies        Paper  617.55   \n",
       "4    IN-2018-565349       Tables D        Furniture       Tables  972.67   \n",
       "..              ...            ...              ...          ...     ...   \n",
       "489  IN-2020-120556        Paper A  Office Supplies        Paper  685.40   \n",
       "492  CA-2016-939525       Labels A  Office Supplies       Labels  358.07   \n",
       "493  US-2016-490347      Storage D  Office Supplies      Storage  728.48   \n",
       "496  US-2017-979008  Furnishings D        Furniture  Furnishings  339.38   \n",
       "499  IN-2018-943633     Machines B       Technology     Machines  203.25   \n",
       "\n",
       "     Quantity  Discount  Profit  \n",
       "0           7       0.1  126.79  \n",
       "1           3       0.4    3.37  \n",
       "2           3       0.4   39.92  \n",
       "3           3       0.0  116.48  \n",
       "4           7       0.2  194.54  \n",
       "..        ...       ...     ...  \n",
       "489         7       0.3   66.74  \n",
       "492         6       0.3   24.72  \n",
       "493         6       0.2   83.23  \n",
       "496         8       0.2   65.81  \n",
       "499         3       0.4   13.56  \n",
       "\n",
       "[420 rows x 8 columns]"
      ]
     },
     "execution_count": 7,
     "metadata": {},
     "output_type": "execute_result"
    }
   ],
   "source": [
    "data.dropna()"
   ]
  },
  {
   "cell_type": "code",
   "execution_count": 8,
   "id": "fb71c86b-1a70-47ab-ba2f-4dee6e3a3df8",
   "metadata": {
    "tags": []
   },
   "outputs": [],
   "source": [
    "mean = data['Sales'].mean()"
   ]
  },
  {
   "cell_type": "code",
   "execution_count": 9,
   "id": "09c3ab47-ac61-4d26-a288-aad68ead9386",
   "metadata": {
    "tags": []
   },
   "outputs": [],
   "source": [
    "data['Sales'] = data['Sales'].fillna(mean)"
   ]
  },
  {
   "cell_type": "code",
   "execution_count": 10,
   "id": "641b2194-e6dd-48f7-ba49-82dac9a66f0f",
   "metadata": {
    "tags": []
   },
   "outputs": [
    {
     "data": {
      "text/plain": [
       "30"
      ]
     },
     "execution_count": 10,
     "metadata": {},
     "output_type": "execute_result"
    }
   ],
   "source": [
    "data['Profit'].isnull().sum()"
   ]
  },
  {
   "cell_type": "code",
   "execution_count": 11,
   "id": "a4f0f664-7565-4fcd-b13f-19c1fd2d0e5d",
   "metadata": {
    "tags": []
   },
   "outputs": [
    {
     "data": {
      "text/html": [
       "<div>\n",
       "<style scoped>\n",
       "    .dataframe tbody tr th:only-of-type {\n",
       "        vertical-align: middle;\n",
       "    }\n",
       "\n",
       "    .dataframe tbody tr th {\n",
       "        vertical-align: top;\n",
       "    }\n",
       "\n",
       "    .dataframe thead th {\n",
       "        text-align: right;\n",
       "    }\n",
       "</style>\n",
       "<table border=\"1\" class=\"dataframe\">\n",
       "  <thead>\n",
       "    <tr style=\"text-align: right;\">\n",
       "      <th></th>\n",
       "      <th>Order ID</th>\n",
       "      <th>Product Name</th>\n",
       "      <th>Category</th>\n",
       "      <th>Sub-Category</th>\n",
       "      <th>Sales</th>\n",
       "      <th>Quantity</th>\n",
       "      <th>Discount</th>\n",
       "      <th>Profit</th>\n",
       "    </tr>\n",
       "  </thead>\n",
       "  <tbody>\n",
       "    <tr>\n",
       "      <th>0</th>\n",
       "      <td>US-2017-434667</td>\n",
       "      <td>Tables A</td>\n",
       "      <td>Furniture</td>\n",
       "      <td>Tables</td>\n",
       "      <td>554.700000</td>\n",
       "      <td>7</td>\n",
       "      <td>0.1</td>\n",
       "      <td>126.79</td>\n",
       "    </tr>\n",
       "    <tr>\n",
       "      <th>1</th>\n",
       "      <td>CA-2021-365005</td>\n",
       "      <td>Labels C</td>\n",
       "      <td>Office Supplies</td>\n",
       "      <td>Labels</td>\n",
       "      <td>24.360000</td>\n",
       "      <td>3</td>\n",
       "      <td>0.4</td>\n",
       "      <td>3.37</td>\n",
       "    </tr>\n",
       "    <tr>\n",
       "      <th>2</th>\n",
       "      <td>CA-2020-401477</td>\n",
       "      <td>Machines A</td>\n",
       "      <td>Technology</td>\n",
       "      <td>Machines</td>\n",
       "      <td>531.720000</td>\n",
       "      <td>3</td>\n",
       "      <td>0.4</td>\n",
       "      <td>39.92</td>\n",
       "    </tr>\n",
       "    <tr>\n",
       "      <th>3</th>\n",
       "      <td>IN-2015-398586</td>\n",
       "      <td>Paper C</td>\n",
       "      <td>Office Supplies</td>\n",
       "      <td>Paper</td>\n",
       "      <td>617.550000</td>\n",
       "      <td>3</td>\n",
       "      <td>0.0</td>\n",
       "      <td>116.48</td>\n",
       "    </tr>\n",
       "    <tr>\n",
       "      <th>4</th>\n",
       "      <td>IN-2018-565349</td>\n",
       "      <td>Tables D</td>\n",
       "      <td>Furniture</td>\n",
       "      <td>Tables</td>\n",
       "      <td>972.670000</td>\n",
       "      <td>7</td>\n",
       "      <td>0.2</td>\n",
       "      <td>194.54</td>\n",
       "    </tr>\n",
       "    <tr>\n",
       "      <th>...</th>\n",
       "      <td>...</td>\n",
       "      <td>...</td>\n",
       "      <td>...</td>\n",
       "      <td>...</td>\n",
       "      <td>...</td>\n",
       "      <td>...</td>\n",
       "      <td>...</td>\n",
       "      <td>...</td>\n",
       "    </tr>\n",
       "    <tr>\n",
       "      <th>493</th>\n",
       "      <td>US-2016-490347</td>\n",
       "      <td>Storage D</td>\n",
       "      <td>Office Supplies</td>\n",
       "      <td>Storage</td>\n",
       "      <td>728.480000</td>\n",
       "      <td>6</td>\n",
       "      <td>0.2</td>\n",
       "      <td>83.23</td>\n",
       "    </tr>\n",
       "    <tr>\n",
       "      <th>495</th>\n",
       "      <td>IN-2017-952207</td>\n",
       "      <td>Phones B</td>\n",
       "      <td>Technology</td>\n",
       "      <td>Phones</td>\n",
       "      <td>515.433745</td>\n",
       "      <td>5</td>\n",
       "      <td>0.4</td>\n",
       "      <td>39.72</td>\n",
       "    </tr>\n",
       "    <tr>\n",
       "      <th>496</th>\n",
       "      <td>US-2017-979008</td>\n",
       "      <td>Furnishings D</td>\n",
       "      <td>Furniture</td>\n",
       "      <td>Furnishings</td>\n",
       "      <td>339.380000</td>\n",
       "      <td>8</td>\n",
       "      <td>0.2</td>\n",
       "      <td>65.81</td>\n",
       "    </tr>\n",
       "    <tr>\n",
       "      <th>497</th>\n",
       "      <td>IN-2019-980328</td>\n",
       "      <td>Labels D</td>\n",
       "      <td>Office Supplies</td>\n",
       "      <td>Labels</td>\n",
       "      <td>515.433745</td>\n",
       "      <td>10</td>\n",
       "      <td>0.3</td>\n",
       "      <td>62.59</td>\n",
       "    </tr>\n",
       "    <tr>\n",
       "      <th>499</th>\n",
       "      <td>IN-2018-943633</td>\n",
       "      <td>Machines B</td>\n",
       "      <td>Technology</td>\n",
       "      <td>Machines</td>\n",
       "      <td>203.250000</td>\n",
       "      <td>3</td>\n",
       "      <td>0.4</td>\n",
       "      <td>13.56</td>\n",
       "    </tr>\n",
       "  </tbody>\n",
       "</table>\n",
       "<p>444 rows × 8 columns</p>\n",
       "</div>"
      ],
      "text/plain": [
       "           Order ID   Product Name         Category Sub-Category       Sales  \\\n",
       "0    US-2017-434667       Tables A        Furniture       Tables  554.700000   \n",
       "1    CA-2021-365005       Labels C  Office Supplies       Labels   24.360000   \n",
       "2    CA-2020-401477     Machines A       Technology     Machines  531.720000   \n",
       "3    IN-2015-398586        Paper C  Office Supplies        Paper  617.550000   \n",
       "4    IN-2018-565349       Tables D        Furniture       Tables  972.670000   \n",
       "..              ...            ...              ...          ...         ...   \n",
       "493  US-2016-490347      Storage D  Office Supplies      Storage  728.480000   \n",
       "495  IN-2017-952207       Phones B       Technology       Phones  515.433745   \n",
       "496  US-2017-979008  Furnishings D        Furniture  Furnishings  339.380000   \n",
       "497  IN-2019-980328       Labels D  Office Supplies       Labels  515.433745   \n",
       "499  IN-2018-943633     Machines B       Technology     Machines  203.250000   \n",
       "\n",
       "     Quantity  Discount  Profit  \n",
       "0           7       0.1  126.79  \n",
       "1           3       0.4    3.37  \n",
       "2           3       0.4   39.92  \n",
       "3           3       0.0  116.48  \n",
       "4           7       0.2  194.54  \n",
       "..        ...       ...     ...  \n",
       "493         6       0.2   83.23  \n",
       "495         5       0.4   39.72  \n",
       "496         8       0.2   65.81  \n",
       "497        10       0.3   62.59  \n",
       "499         3       0.4   13.56  \n",
       "\n",
       "[444 rows x 8 columns]"
      ]
     },
     "execution_count": 11,
     "metadata": {},
     "output_type": "execute_result"
    }
   ],
   "source": [
    "data.dropna()"
   ]
  },
  {
   "cell_type": "code",
   "execution_count": 25,
   "id": "0bf6f0d2-2152-47a5-8869-f5dd57e640c6",
   "metadata": {
    "tags": []
   },
   "outputs": [
    {
     "data": {
      "text/plain": [
       "(array([], dtype=int64),)"
      ]
     },
     "execution_count": 25,
     "metadata": {},
     "output_type": "execute_result"
    }
   ],
   "source": [
    "a = data['Category'].isnull()\n",
    "arr = np.where(a == True)\n",
    "arr"
   ]
  },
  {
   "cell_type": "code",
   "execution_count": 27,
   "id": "115882d2-d0ee-4436-b43d-c4fcf949d924",
   "metadata": {
    "tags": []
   },
   "outputs": [
    {
     "name": "stderr",
     "output_type": "stream",
     "text": [
      "C:\\Users\\asus\\AppData\\Local\\Temp\\ipykernel_376\\2637820360.py:2: SettingWithCopyWarning: \n",
      "A value is trying to be set on a copy of a slice from a DataFrame\n",
      "\n",
      "See the caveats in the documentation: https://pandas.pydata.org/pandas-docs/stable/user_guide/indexing.html#returning-a-view-versus-a-copy\n",
      "  data['Category'].loc[i] = data['Sub-Category'].loc[i]\n"
     ]
    }
   ],
   "source": [
    "for i in arr:\n",
    "    data['Category'].loc[i] = data['Sub-Category'].loc[i]"
   ]
  },
  {
   "cell_type": "code",
   "execution_count": 28,
   "id": "3abfd1aa-db74-4934-9d1d-404eed934327",
   "metadata": {
    "tags": []
   },
   "outputs": [
    {
     "data": {
      "text/plain": [
       "0"
      ]
     },
     "execution_count": 28,
     "metadata": {},
     "output_type": "execute_result"
    }
   ],
   "source": [
    "data['Category'].isnull().sum()"
   ]
  },
  {
   "cell_type": "code",
   "execution_count": 29,
   "id": "5c114ffe-bac1-4351-b03a-0d9a02e510a9",
   "metadata": {},
   "outputs": [
    {
     "data": {
      "text/plain": [
       "Order ID         0\n",
       "Product Name     0\n",
       "Category         0\n",
       "Sub-Category     0\n",
       "Sales            0\n",
       "Quantity         0\n",
       "Discount         0\n",
       "Profit          30\n",
       "dtype: int64"
      ]
     },
     "execution_count": 29,
     "metadata": {},
     "output_type": "execute_result"
    }
   ],
   "source": [
    "data.isnull().sum()"
   ]
  },
  {
   "cell_type": "code",
   "execution_count": 32,
   "id": "d03e6353-829a-4299-a5e9-3b7e34b0fad8",
   "metadata": {
    "tags": []
   },
   "outputs": [],
   "source": [
    "# np.where[data['Quantity'] == 10]\n",
    "arr = np.array(data['Quantity'])"
   ]
  },
  {
   "cell_type": "code",
   "execution_count": 41,
   "id": "fd3da26a-c483-4623-a87e-78e64ad52eb2",
   "metadata": {
    "tags": []
   },
   "outputs": [],
   "source": [
    "product_maxSell = np.where(arr == 10)"
   ]
  },
  {
   "cell_type": "code",
   "execution_count": 54,
   "id": "0055736a-43a7-4a6a-989f-41c5d6129e1a",
   "metadata": {
    "tags": []
   },
   "outputs": [
    {
     "data": {
      "text/plain": [
       "'Technology'"
      ]
     },
     "execution_count": 54,
     "metadata": {},
     "output_type": "execute_result"
    }
   ],
   "source": [
    "data.loc[24]['Category']"
   ]
  },
  {
   "cell_type": "code",
   "execution_count": 56,
   "id": "82ce9111-d886-4f53-9b86-2e0a54f99fb7",
   "metadata": {
    "tags": []
   },
   "outputs": [],
   "source": [
    "temp = []\n",
    "for i in product_maxSell:\n",
    "    temp.append(data.loc[i]['Sub-Category'])"
   ]
  },
  {
   "cell_type": "code",
   "execution_count": 76,
   "id": "1406906e-7a23-40af-a216-9076dfd7e74f",
   "metadata": {
    "tags": []
   },
   "outputs": [],
   "source": [
    "temp = np.array(temp)"
   ]
  },
  {
   "cell_type": "code",
   "execution_count": 79,
   "id": "ec8cd51a-f26c-4f10-a967-b8fb912c6603",
   "metadata": {
    "tags": []
   },
   "outputs": [
    {
     "data": {
      "text/plain": [
       "array([['Furnishings', 'Tables', 'Phones', 'Chairs', 'Paper', 'Phones',\n",
       "        'Labels', 'Copiers', 'Binders', 'Storage', 'Chairs', 'Chairs',\n",
       "        'Furnishings', 'Bookcases', 'Chairs', 'Binders', 'Bookcases',\n",
       "        'Storage', 'Accessories', 'Bookcases', 'Paper', 'Accessories',\n",
       "        'Furnishings', 'Storage', 'Accessories', 'Machines', 'Storage',\n",
       "        'Tables', 'Machines', 'Phones', 'Machines', 'Copiers', 'Tables',\n",
       "        'Furnishings', 'Bookcases', 'Tables', 'Storage', 'Paper',\n",
       "        'Phones', 'Labels', 'Phones', 'Storage', 'Copiers', 'Phones',\n",
       "        'Copiers', 'Binders', 'Chairs', 'Binders', 'Furnishings',\n",
       "        'Bookcases', 'Tables', 'Accessories', 'Labels', 'Furnishings',\n",
       "        'Accessories', 'Labels']], dtype=object)"
      ]
     },
     "execution_count": 79,
     "metadata": {},
     "output_type": "execute_result"
    }
   ],
   "source": [
    "temp"
   ]
  },
  {
   "cell_type": "code",
   "execution_count": 78,
   "id": "78529a24-da0e-49b1-be7b-5ff91e68cbd3",
   "metadata": {
    "tags": []
   },
   "outputs": [
    {
     "data": {
      "text/plain": [
       "array(['Accessories', 'Binders', 'Bookcases', 'Chairs', 'Copiers',\n",
       "       'Furnishings', 'Labels', 'Machines', 'Paper', 'Phones', 'Storage',\n",
       "       'Tables'], dtype=object)"
      ]
     },
     "execution_count": 78,
     "metadata": {},
     "output_type": "execute_result"
    }
   ],
   "source": [
    "Max_Products = np.unique(temp)"
   ]
  },
  {
   "cell_type": "code",
   "execution_count": 87,
   "id": "0b6c0330-1801-4d78-ba31-7d6924ee189b",
   "metadata": {
    "tags": []
   },
   "outputs": [
    {
     "data": {
      "text/plain": [
       "array([  4,  20,  30,  45,  70,  82,  95,  96, 115, 157, 173, 187, 189,\n",
       "       285, 332, 371, 423, 437, 475], dtype=int64)"
      ]
     },
     "execution_count": 87,
     "metadata": {},
     "output_type": "execute_result"
    }
   ],
   "source": [
    "max_profit = np.where(data['Profit'] >= 194.54)\n",
    "max_profit[0]"
   ]
  },
  {
   "cell_type": "code",
   "execution_count": 89,
   "id": "f9494020-9f56-418c-a0e6-f27ffa0cba12",
   "metadata": {
    "tags": []
   },
   "outputs": [],
   "source": [
    "temp = []\n",
    "for i in max_profit:\n",
    "    temp.append(data['Category'][i])"
   ]
  },
  {
   "cell_type": "code",
   "execution_count": 90,
   "id": "794a1b89-1daa-4437-b3a2-596c9626cd6d",
   "metadata": {
    "tags": []
   },
   "outputs": [
    {
     "data": {
      "text/plain": [
       "[4            Furniture\n",
       " 20          Technology\n",
       " 30     Office Supplies\n",
       " 45          Technology\n",
       " 70     Office Supplies\n",
       " 82           Technlogy\n",
       " 95           Furniture\n",
       " 96          Technology\n",
       " 115            Binders\n",
       " 157          Furniture\n",
       " 173    Office Supplies\n",
       " 187            Copiers\n",
       " 189          Furniture\n",
       " 285         Technology\n",
       " 332    Office Supplies\n",
       " 371          Furniture\n",
       " 423          Furniture\n",
       " 437          Furniture\n",
       " 475          Furniture\n",
       " Name: Category, dtype: object]"
      ]
     },
     "execution_count": 90,
     "metadata": {},
     "output_type": "execute_result"
    }
   ],
   "source": [
    "temp"
   ]
  },
  {
   "cell_type": "code",
   "execution_count": 93,
   "id": "166157fb-612d-4a3a-bc0a-7e05841bb4d8",
   "metadata": {
    "tags": []
   },
   "outputs": [],
   "source": [
    "arr = np.array(data['Discount'])"
   ]
  },
  {
   "cell_type": "code",
   "execution_count": 96,
   "id": "72f94919-c9a5-4b42-9b4d-54a6901ea602",
   "metadata": {
    "tags": []
   },
   "outputs": [],
   "source": [
    "max_dis = []\n",
    "min_dis = []\n",
    "zero_dis = []\n",
    "\n",
    "for i in arr:\n",
    "    if i > 0.2:\n",
    "        max_dis.append(i)\n",
    "    elif i > 0:\n",
    "        min_dis.append(i)\n",
    "    else:\n",
    "        zero_dis.append(i)"
   ]
  },
  {
   "cell_type": "code",
   "execution_count": 99,
   "id": "f1ffc628-3db7-4e9a-be7d-a449d2596fa6",
   "metadata": {
    "tags": []
   },
   "outputs": [
    {
     "data": {
      "text/plain": [
       "217"
      ]
     },
     "execution_count": 99,
     "metadata": {},
     "output_type": "execute_result"
    }
   ],
   "source": [
    "len(max_dis)"
   ]
  },
  {
   "cell_type": "code",
   "execution_count": 100,
   "id": "608903fd-6e9a-4426-9f75-3180864b06c2",
   "metadata": {
    "tags": []
   },
   "outputs": [
    {
     "data": {
      "text/plain": [
       "180"
      ]
     },
     "execution_count": 100,
     "metadata": {},
     "output_type": "execute_result"
    }
   ],
   "source": [
    "len(min_dis)"
   ]
  },
  {
   "cell_type": "code",
   "execution_count": 101,
   "id": "8ccfbcf0-f1b8-4125-92b9-b3ca29589489",
   "metadata": {
    "tags": []
   },
   "outputs": [
    {
     "data": {
      "text/plain": [
       "103"
      ]
     },
     "execution_count": 101,
     "metadata": {},
     "output_type": "execute_result"
    }
   ],
   "source": [
    "len(zero_dis)"
   ]
  },
  {
   "cell_type": "code",
   "execution_count": null,
   "id": "4115e9ea-655d-43c2-b154-2f677778844f",
   "metadata": {},
   "outputs": [],
   "source": []
  }
 ],
 "metadata": {
  "kernelspec": {
   "display_name": "Python 3 (ipykernel)",
   "language": "python",
   "name": "python3"
  },
  "language_info": {
   "codemirror_mode": {
    "name": "ipython",
    "version": 3
   },
   "file_extension": ".py",
   "mimetype": "text/x-python",
   "name": "python",
   "nbconvert_exporter": "python",
   "pygments_lexer": "ipython3",
   "version": "3.11.5"
  }
 },
 "nbformat": 4,
 "nbformat_minor": 5
}

{
 "cells": [
  {
   "cell_type": "code",
   "execution_count": null,
   "id": "aad4c386-4271-45c3-8254-9a6f851a5110",
   "metadata": {
    "tags": []
   },
   "outputs": [],
   "source": [
    "#Arithmetic operator\n",
    "\n",
    "x = 4\n",
    "y = 3\n",
    "\n",
    "print(\"Sum of x and y is:\",x+y)\n",
    "print(\"Subtraction of x and y is:\",x-y)\n",
    "print(\"Multiplication of x and y is:\",x*y)\n",
    "print(\"Division of x and y is:\",x/y)\n",
    "print(\"Floor division of x and y is:\",x//y)\n",
    "print(\"Modulus of x and y is:\",x%y)\n",
    "print(\"Y is the power of x:\",x**y)"
   ]
  },
  {
   "cell_type": "code",
   "execution_count": null,
   "id": "8a06f793-f524-47c0-bb5a-e3b6f5fe750a",
   "metadata": {
    "tags": []
   },
   "outputs": [],
   "source": [
    "li = [12,4,6,3,46,3]\n",
    "li[1]"
   ]
  },
  {
   "cell_type": "code",
   "execution_count": null,
   "id": "cee5379e-41fb-44fa-b36f-0f1ffa824945",
   "metadata": {
    "tags": []
   },
   "outputs": [],
   "source": [
    "li[1] = 23\n"
   ]
  },
  {
   "cell_type": "code",
   "execution_count": null,
   "id": "9665aeb0-636b-4a3d-b22b-571a8910d79b",
   "metadata": {
    "tags": []
   },
   "outputs": [],
   "source": [
    "li"
   ]
  },
  {
   "cell_type": "code",
   "execution_count": null,
   "id": "94860e36-195a-4bde-9410-19142cda28f9",
   "metadata": {
    "tags": []
   },
   "outputs": [],
   "source": [
    "st = \"Hello world\"\n",
    "st[3]"
   ]
  },
  {
   "cell_type": "code",
   "execution_count": null,
   "id": "cfe863cf-9d9e-498e-b029-73f320f2e2ba",
   "metadata": {
    "tags": []
   },
   "outputs": [],
   "source": [
    "st[3] = 'k'"
   ]
  },
  {
   "cell_type": "code",
   "execution_count": null,
   "id": "c29466b9-6c1d-4ae6-92dc-ca10d034b555",
   "metadata": {
    "tags": []
   },
   "outputs": [],
   "source": [
    "i = 56\n",
    "i + 2"
   ]
  },
  {
   "cell_type": "code",
   "execution_count": null,
   "id": "bb5241e9-7484-4b42-8c0a-2a8cb6bbd165",
   "metadata": {
    "tags": []
   },
   "outputs": [],
   "source": [
    "i  = i + 2\n",
    "i"
   ]
  },
  {
   "cell_type": "code",
   "execution_count": null,
   "id": "c6ba5279-6da8-41c0-b053-df774c1366ae",
   "metadata": {},
   "outputs": [],
   "source": []
  }
 ],
 "metadata": {
  "kernelspec": {
   "display_name": "Python 3 (ipykernel)",
   "language": "python",
   "name": "python3"
  },
  "language_info": {
   "codemirror_mode": {
    "name": "ipython",
    "version": 3
   },
   "file_extension": ".py",
   "mimetype": "text/x-python",
   "name": "python",
   "nbconvert_exporter": "python",
   "pygments_lexer": "ipython3",
   "version": "3.11.5"
  }
 },
 "nbformat": 4,
 "nbformat_minor": 5
}

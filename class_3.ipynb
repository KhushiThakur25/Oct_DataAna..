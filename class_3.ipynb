{
 "cells": [
  {
   "cell_type": "code",
   "execution_count": 1,
   "id": "c10d818f-29a4-4da3-af53-82abfa562d85",
   "metadata": {
    "tags": []
   },
   "outputs": [
    {
     "name": "stdout",
     "output_type": "stream",
     "text": [
      "Hello world..\n"
     ]
    }
   ],
   "source": [
    "print(\"Hello world..\")"
   ]
  },
  {
   "cell_type": "code",
   "execution_count": 2,
   "id": "b006b42e-97e0-4a34-bff3-464ff940729a",
   "metadata": {
    "tags": []
   },
   "outputs": [
    {
     "name": "stdout",
     "output_type": "stream",
     "text": [
      "Sum of x and y is: 11\n"
     ]
    }
   ],
   "source": [
    "x = 5\n",
    "y = 6\n",
    "print(\"Sum of x and y is:\",x+y)"
   ]
  },
  {
   "cell_type": "code",
   "execution_count": 3,
   "id": "06ce3690-1446-44a7-a796-dfd74436b245",
   "metadata": {
    "tags": []
   },
   "outputs": [
    {
     "name": "stdout",
     "output_type": "stream",
     "text": [
      "Sum of 5 and 6 is: 11\n"
     ]
    }
   ],
   "source": [
    "print(\"Sum of\",x,\"and\",y,\"is:\",x+y)"
   ]
  },
  {
   "cell_type": "code",
   "execution_count": 4,
   "id": "8a4121d7-515a-41e9-97e6-f3076ed562fc",
   "metadata": {
    "tags": []
   },
   "outputs": [
    {
     "name": "stdout",
     "output_type": "stream",
     "text": [
      "Sum of 5 and 6 is: 11\n"
     ]
    }
   ],
   "source": [
    "print(\"Sum of %d and %d is: %d\"%(x,y,x+y))"
   ]
  },
  {
   "cell_type": "code",
   "execution_count": 6,
   "id": "2582f45a-dc76-49b8-953d-bb651ba8001c",
   "metadata": {
    "tags": []
   },
   "outputs": [
    {
     "name": "stdout",
     "output_type": "stream",
     "text": [
      "Div of 5 and 6 is: 0.833333\n"
     ]
    }
   ],
   "source": [
    "print(\"Div of %d and %d is: %f\"%(x,y,x/y))"
   ]
  },
  {
   "cell_type": "code",
   "execution_count": 9,
   "id": "5b3b35ff-6bfa-4171-bfcb-22a1146ee831",
   "metadata": {
    "tags": []
   },
   "outputs": [
    {
     "name": "stdout",
     "output_type": "stream",
     "text": [
      "Div of 6 and 5 is:0.8333333333333334\n"
     ]
    }
   ],
   "source": [
    "print(\"Div of {} and {} is:{}\".format(x,y,x/y))"
   ]
  },
  {
   "cell_type": "code",
   "execution_count": 10,
   "id": "56323f27-8297-4740-b560-ad6913e57e7e",
   "metadata": {
    "tags": []
   },
   "outputs": [
    {
     "name": "stdout",
     "output_type": "stream",
     "text": [
      "Div of 5 and 6 is: 0.8333333333333334\n"
     ]
    }
   ],
   "source": [
    "print(f\"Div of {x} and {y} is: {x/y}\")"
   ]
  },
  {
   "cell_type": "code",
   "execution_count": 12,
   "id": "ed6b4a84-48db-4b48-b30f-21140cc4dc05",
   "metadata": {
    "tags": []
   },
   "outputs": [
    {
     "name": "stdin",
     "output_type": "stream",
     "text": [
      "Enter the value 22\n",
      "Enter the value2 55\n"
     ]
    },
    {
     "data": {
      "text/plain": [
       "'2255'"
      ]
     },
     "execution_count": 12,
     "metadata": {},
     "output_type": "execute_result"
    }
   ],
   "source": [
    "# input always(default) take a input in string format\n",
    "n1 = input(\"Enter the value\")\n",
    "n2 = input(\"Enter the value2\")\n",
    "n1 + n2"
   ]
  },
  {
   "cell_type": "code",
   "execution_count": 14,
   "id": "9bde511a-ac9f-4c4a-b375-cefb2eae3bae",
   "metadata": {
    "tags": []
   },
   "outputs": [
    {
     "name": "stdin",
     "output_type": "stream",
     "text": [
      "Enter the value.. 16\n"
     ]
    },
    {
     "name": "stdout",
     "output_type": "stream",
     "text": [
      "Number is even..\n"
     ]
    }
   ],
   "source": [
    "# Conditional statements..\n",
    "# if - else\n",
    "# if - elif - else\n",
    "# Normal if- else\n",
    "\n",
    "n = int(input(\"Enter the value..\"))\n",
    "if n%2 == 0:\n",
    "    print(\"Number is even..\")\n",
    "else:\n",
    "    print(\"Number is odd..\")"
   ]
  },
  {
   "cell_type": "code",
   "execution_count": 15,
   "id": "b768aa68-5f77-402e-9e9f-3b7e86bd0253",
   "metadata": {
    "tags": []
   },
   "outputs": [
    {
     "name": "stdin",
     "output_type": "stream",
     "text": [
      "Enter the value for a.. 56\n",
      "Enter the value for b.. 21\n",
      "Enter the value for c.. 48\n"
     ]
    },
    {
     "name": "stdout",
     "output_type": "stream",
     "text": [
      "a is greatest..\n"
     ]
    }
   ],
   "source": [
    "a = int(input(\"Enter the value for a..\"))\n",
    "b = int(input(\"Enter the value for b..\"))\n",
    "c = int(input(\"Enter the value for c..\"))\n",
    "if a > b and a > c:\n",
    "    print(\"a is greatest..\")\n",
    "elif b > a and b > c:\n",
    "    print(\"b is greatest..\")\n",
    "else:\n",
    "    print(\"c is greatest..\")"
   ]
  },
  {
   "cell_type": "code",
   "execution_count": 19,
   "id": "6508d459-48e7-4fdc-a817-575f5f3f28d4",
   "metadata": {
    "tags": []
   },
   "outputs": [
    {
     "name": "stdin",
     "output_type": "stream",
     "text": [
      "Enter the age of the person.. 19\n",
      "Enter the gender.. male\n"
     ]
    },
    {
     "name": "stdout",
     "output_type": "stream",
     "text": [
      "Welcome to party!..\n"
     ]
    }
   ],
   "source": [
    "age = int(input(\"Enter the age of the person..\"))\n",
    "gender = input(\"Enter the gender..\")\n",
    "\n",
    "if(age >= 18):\n",
    "    if(gender == \"male\"):\n",
    "        print(\"Welcome to party!..\")\n",
    "    else:\n",
    "        print(\"your gender is not for allowed for party..\")\n",
    "else:\n",
    "    print(\"Your are not adult..\")"
   ]
  },
  {
   "cell_type": "code",
   "execution_count": 25,
   "id": "8c5b4c38-7553-4542-8c7a-0e013292ac2f",
   "metadata": {
    "tags": []
   },
   "outputs": [
    {
     "name": "stdout",
     "output_type": "stream",
     "text": [
      "* * * * * * "
     ]
    }
   ],
   "source": [
    "for i in range(0,6):\n",
    "    print(\"*\",end = \" \")\n",
    "\n"
   ]
  },
  {
   "cell_type": "code",
   "execution_count": 28,
   "id": "a452f36d-f0e4-4267-b063-688dacb1be22",
   "metadata": {
    "tags": []
   },
   "outputs": [
    {
     "name": "stdout",
     "output_type": "stream",
     "text": [
      "1\n",
      "3\n",
      "5\n",
      "7\n",
      "9\n"
     ]
    }
   ],
   "source": [
    "for i in range(1,11,2):\n",
    "    print(i)"
   ]
  },
  {
   "cell_type": "code",
   "execution_count": null,
   "id": "764a0896-6ec5-4d39-a694-99c6617cd40f",
   "metadata": {},
   "outputs": [],
   "source": []
  }
 ],
 "metadata": {
  "kernelspec": {
   "display_name": "Python 3 (ipykernel)",
   "language": "python",
   "name": "python3"
  },
  "language_info": {
   "codemirror_mode": {
    "name": "ipython",
    "version": 3
   },
   "file_extension": ".py",
   "mimetype": "text/x-python",
   "name": "python",
   "nbconvert_exporter": "python",
   "pygments_lexer": "ipython3",
   "version": "3.11.5"
  }
 },
 "nbformat": 4,
 "nbformat_minor": 5
}

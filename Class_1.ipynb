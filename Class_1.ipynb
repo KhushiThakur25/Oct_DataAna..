{
 "cells": [
  {
   "cell_type": "code",
   "execution_count": 2,
   "id": "804c72f1-77a5-4d17-b7d2-8743e242e91a",
   "metadata": {
    "tags": []
   },
   "outputs": [],
   "source": [
    "student_name = \"Aman\""
   ]
  },
  {
   "cell_type": "code",
   "execution_count": 35,
   "id": "4dd0f631-9bb7-4afe-b56a-c77212e24dcd",
   "metadata": {
    "tags": []
   },
   "outputs": [
    {
     "data": {
      "text/plain": [
       "set"
      ]
     },
     "execution_count": 35,
     "metadata": {},
     "output_type": "execute_result"
    }
   ],
   "source": [
    "student_name\n",
    "n = 5,\n",
    "type(n)\n",
    "n = {1}\n",
    "type(n)"
   ]
  },
  {
   "cell_type": "code",
   "execution_count": 9,
   "id": "669aca42-cf92-4596-af27-f5b3e1f757e1",
   "metadata": {
    "tags": []
   },
   "outputs": [
    {
     "name": "stdout",
     "output_type": "stream",
     "text": [
      "Hello world..\n"
     ]
    }
   ],
   "source": [
    "#for printing single line so then you can use single inverted commas\n",
    "print(\"Hello world..\")"
   ]
  },
  {
   "cell_type": "code",
   "execution_count": 8,
   "id": "e0041765-aaa6-47ed-a49b-2232bce0746b",
   "metadata": {
    "tags": []
   },
   "outputs": [
    {
     "name": "stdout",
     "output_type": "stream",
     "text": [
      "Twinkle, twinkle, little star,\n",
      "How I wonder what you are!\n",
      "Up above the world so high,\n",
      "Like a diamond in the sky.\n",
      "\n",
      "When the blazing sun is gone,\n",
      "When he nothing shines upon,\n",
      "Then you show your little light,\n",
      "Twinkle, twinkle, all the night.\n"
     ]
    }
   ],
   "source": [
    "''' for multiple lines we will use 3 pairs of inverted commas\n",
    " and then you can easily print your data'''\n",
    "\n",
    "print(\"\"\"Twinkle, twinkle, little star,\n",
    "How I wonder what you are!\n",
    "Up above the world so high,\n",
    "Like a diamond in the sky.\n",
    "\n",
    "When the blazing sun is gone,\n",
    "When he nothing shines upon,\n",
    "Then you show your little light,\n",
    "Twinkle, twinkle, all the night.\"\"\")"
   ]
  },
  {
   "cell_type": "code",
   "execution_count": 10,
   "id": "4b997ca1-994a-41cf-a697-a399226331a0",
   "metadata": {
    "tags": []
   },
   "outputs": [
    {
     "name": "stdout",
     "output_type": "stream",
     "text": [
      "['False', 'None', 'True', 'and', 'as', 'assert', 'async', 'await', 'break', 'class', 'continue', 'def', 'del', 'elif', 'else', 'except', 'finally', 'for', 'from', 'global', 'if', 'import', 'in', 'is', 'lambda', 'nonlocal', 'not', 'or', 'pass', 'raise', 'return', 'try', 'while', 'with', 'yield']\n"
     ]
    }
   ],
   "source": [
    "import keyword\n",
    "print(keyword.kwlist)"
   ]
  },
  {
   "cell_type": "code",
   "execution_count": 11,
   "id": "e2ac99ed-5ac3-4ee6-affd-0710e417a89f",
   "metadata": {
    "tags": []
   },
   "outputs": [],
   "source": [
    "import sys"
   ]
  },
  {
   "cell_type": "code",
   "execution_count": 19,
   "id": "81d1a811-2214-47eb-bcb5-6ed6c21ed89c",
   "metadata": {
    "tags": []
   },
   "outputs": [
    {
     "name": "stdout",
     "output_type": "stream",
     "text": [
      "28\n",
      "28\n",
      "32\n"
     ]
    }
   ],
   "source": [
    "#size of integer\n",
    "print(sys.getsizeof(0))\n",
    "print(sys.getsizeof(10))\n",
    "print(sys.getsizeof(10000000000))"
   ]
  },
  {
   "cell_type": "code",
   "execution_count": 23,
   "id": "4ce48be1-e976-4f22-a901-248ae34f09ef",
   "metadata": {
    "tags": []
   },
   "outputs": [
    {
     "name": "stdout",
     "output_type": "stream",
     "text": [
      "51\n"
     ]
    }
   ],
   "source": [
    "#size of string\n",
    "print(sys.getsizeof(\"ab\"))"
   ]
  },
  {
   "cell_type": "code",
   "execution_count": 25,
   "id": "dcda8b10-cae0-475c-a022-ab93c30667bd",
   "metadata": {
    "tags": []
   },
   "outputs": [
    {
     "name": "stdout",
     "output_type": "stream",
     "text": [
      "72\n"
     ]
    }
   ],
   "source": [
    "#size of list\n",
    "print(sys.getsizeof([1,2]))"
   ]
  },
  {
   "cell_type": "code",
   "execution_count": 28,
   "id": "140fa2ba-ddac-48e7-b66a-46be492df574",
   "metadata": {
    "tags": []
   },
   "outputs": [
    {
     "name": "stdout",
     "output_type": "stream",
     "text": [
      "64\n"
     ]
    }
   ],
   "source": [
    "#size of tuple\n",
    "print(sys.getsizeof((1,2,3)))"
   ]
  },
  {
   "cell_type": "code",
   "execution_count": 41,
   "id": "d1b0763d-f4c3-407c-a1c2-b92d61269c4b",
   "metadata": {
    "tags": []
   },
   "outputs": [
    {
     "name": "stdout",
     "output_type": "stream",
     "text": [
      "216\n"
     ]
    }
   ],
   "source": [
    "#size of set\n",
    "st = set()\n",
    "print(sys.getsizeof(st))"
   ]
  },
  {
   "cell_type": "code",
   "execution_count": 40,
   "id": "9fca3f74-9d81-49df-b8ed-cdddd99fcbf9",
   "metadata": {
    "tags": []
   },
   "outputs": [
    {
     "name": "stdout",
     "output_type": "stream",
     "text": [
      "64\n"
     ]
    }
   ],
   "source": [
    "#size of dictionary\n",
    "print(sys.getsizeof({}))"
   ]
  },
  {
   "cell_type": "code",
   "execution_count": null,
   "id": "28638892-a623-4899-8c82-f39ac36a5f99",
   "metadata": {},
   "outputs": [],
   "source": []
  }
 ],
 "metadata": {
  "kernelspec": {
   "display_name": "Python 3 (ipykernel)",
   "language": "python",
   "name": "python3"
  },
  "language_info": {
   "codemirror_mode": {
    "name": "ipython",
    "version": 3
   },
   "file_extension": ".py",
   "mimetype": "text/x-python",
   "name": "python",
   "nbconvert_exporter": "python",
   "pygments_lexer": "ipython3",
   "version": "3.11.5"
  }
 },
 "nbformat": 4,
 "nbformat_minor": 5
}
